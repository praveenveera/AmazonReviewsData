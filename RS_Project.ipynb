{
 "nbformat": 4,
 "nbformat_minor": 2,
 "metadata": {
  "language_info": {
   "name": "python",
   "codemirror_mode": {
    "name": "ipython",
    "version": 3
   },
   "version": "3.7.2"
  },
  "orig_nbformat": 2,
  "file_extension": ".py",
  "mimetype": "text/x-python",
  "name": "python",
  "npconvert_exporter": "python",
  "pygments_lexer": "ipython3",
  "version": 3
 },
 "cells": [
  {
   "cell_type": "code",
   "execution_count": 2,
   "metadata": {},
   "outputs": [],
   "source": [
    "import os\n",
    "import pandas as pd\n",
    "import numpy as np\n",
    "import matplotlib as pyplot\n"
   ]
  },
  {
   "cell_type": "code",
   "execution_count": 9,
   "metadata": {},
   "outputs": [],
   "source": [
    "column = ['userId','productId','Rating','timestamp']"
   ]
  },
  {
   "cell_type": "code",
   "execution_count": 10,
   "metadata": {},
   "outputs": [],
   "source": [
    "df = pd.read_csv('ratings_Electronics.csv',names = column)"
   ]
  },
  {
   "cell_type": "code",
   "execution_count": 11,
   "metadata": {},
   "outputs": [
    {
     "data": {
      "text/html": "<div>\n<style scoped>\n    .dataframe tbody tr th:only-of-type {\n        vertical-align: middle;\n    }\n\n    .dataframe tbody tr th {\n        vertical-align: top;\n    }\n\n    .dataframe thead th {\n        text-align: right;\n    }\n</style>\n<table border=\"1\" class=\"dataframe\">\n  <thead>\n    <tr style=\"text-align: right;\">\n      <th></th>\n      <th>userId</th>\n      <th>productId</th>\n      <th>Rating</th>\n      <th>timestamp</th>\n    </tr>\n  </thead>\n  <tbody>\n    <tr>\n      <th>0</th>\n      <td>AKM1MP6P0OYPR</td>\n      <td>0132793040</td>\n      <td>5.0</td>\n      <td>1365811200</td>\n    </tr>\n    <tr>\n      <th>1</th>\n      <td>A2CX7LUOHB2NDG</td>\n      <td>0321732944</td>\n      <td>5.0</td>\n      <td>1341100800</td>\n    </tr>\n    <tr>\n      <th>2</th>\n      <td>A2NWSAGRHCP8N5</td>\n      <td>0439886341</td>\n      <td>1.0</td>\n      <td>1367193600</td>\n    </tr>\n    <tr>\n      <th>3</th>\n      <td>A2WNBOD3WNDNKT</td>\n      <td>0439886341</td>\n      <td>3.0</td>\n      <td>1374451200</td>\n    </tr>\n    <tr>\n      <th>4</th>\n      <td>A1GI0U4ZRJA8WN</td>\n      <td>0439886341</td>\n      <td>1.0</td>\n      <td>1334707200</td>\n    </tr>\n  </tbody>\n</table>\n</div>",
      "text/plain": "           userId   productId  Rating   timestamp\n0   AKM1MP6P0OYPR  0132793040     5.0  1365811200\n1  A2CX7LUOHB2NDG  0321732944     5.0  1341100800\n2  A2NWSAGRHCP8N5  0439886341     1.0  1367193600\n3  A2WNBOD3WNDNKT  0439886341     3.0  1374451200\n4  A1GI0U4ZRJA8WN  0439886341     1.0  1334707200"
     },
     "execution_count": 11,
     "metadata": {},
     "output_type": "execute_result"
    }
   ],
   "source": [
    "df.head()"
   ]
  },
  {
   "cell_type": "code",
   "execution_count": 13,
   "metadata": {},
   "outputs": [],
   "source": [
    "# Shape of the data\n",
    "rows,columns = df.shape"
   ]
  },
  {
   "cell_type": "code",
   "execution_count": 22,
   "metadata": {},
   "outputs": [
    {
     "name": "stdout",
     "output_type": "stream",
     "text": "Rows: 7824482, Columns: 4 \n"
    }
   ],
   "source": [
    "print('Rows: {0}, Columns: {1} '.format(rows,columns))"
   ]
  },
  {
   "cell_type": "code",
   "execution_count": 17,
   "metadata": {},
   "outputs": [
    {
     "name": "stdout",
     "output_type": "stream",
     "text": "<class 'pandas.core.frame.DataFrame'>\nRangeIndex: 7824482 entries, 0 to 7824481\nData columns (total 4 columns):\nuserId       object\nproductId    object\nRating       float64\ntimestamp    int64\ndtypes: float64(1), int64(1), object(2)\nmemory usage: 238.8+ MB\n"
    }
   ],
   "source": [
    "# \n",
    "df.info()"
   ]
  },
  {
   "cell_type": "markdown",
   "execution_count": null,
   "metadata": {},
   "outputs": [],
   "source": [
    "It looks like we have a dataset of 4 columns out of which 2 are object datatype. We may need to drill down and see what the data actually look like. \n",
    "Other two columns having one Float and one Int"
   ]
  },
  {
   "cell_type": "code",
   "execution_count": 20,
   "metadata": {},
   "outputs": [
    {
     "data": {
      "text/plain": "userId       0\nproductId    0\nRating       0\ntimestamp    0\ndtype: int64"
     },
     "execution_count": 20,
     "metadata": {},
     "output_type": "execute_result"
    }
   ],
   "source": [
    "# Check the Null values\n",
    "df.isna().sum()"
   ]
  },
  {
   "cell_type": "code",
   "execution_count": 21,
   "metadata": {},
   "outputs": [
    {
     "data": {
      "text/html": "<div>\n<style scoped>\n    .dataframe tbody tr th:only-of-type {\n        vertical-align: middle;\n    }\n\n    .dataframe tbody tr th {\n        vertical-align: top;\n    }\n\n    .dataframe thead th {\n        text-align: right;\n    }\n</style>\n<table border=\"1\" class=\"dataframe\">\n  <thead>\n    <tr style=\"text-align: right;\">\n      <th></th>\n      <th>count</th>\n      <th>mean</th>\n      <th>std</th>\n      <th>min</th>\n      <th>25%</th>\n      <th>50%</th>\n      <th>75%</th>\n      <th>max</th>\n    </tr>\n  </thead>\n  <tbody>\n    <tr>\n      <th>Rating</th>\n      <td>7824482.0</td>\n      <td>4.012337e+00</td>\n      <td>1.380910e+00</td>\n      <td>1.0</td>\n      <td>3.000000e+00</td>\n      <td>5.000000e+00</td>\n      <td>5.000000e+00</td>\n      <td>5.000000e+00</td>\n    </tr>\n    <tr>\n      <th>timestamp</th>\n      <td>7824482.0</td>\n      <td>1.338178e+09</td>\n      <td>6.900426e+07</td>\n      <td>912729600.0</td>\n      <td>1.315354e+09</td>\n      <td>1.361059e+09</td>\n      <td>1.386115e+09</td>\n      <td>1.406074e+09</td>\n    </tr>\n  </tbody>\n</table>\n</div>",
      "text/plain": "               count          mean           std          min           25%  \\\nRating     7824482.0  4.012337e+00  1.380910e+00          1.0  3.000000e+00   \ntimestamp  7824482.0  1.338178e+09  6.900426e+07  912729600.0  1.315354e+09   \n\n                    50%           75%           max  \nRating     5.000000e+00  5.000000e+00  5.000000e+00  \ntimestamp  1.361059e+09  1.386115e+09  1.406074e+09  "
     },
     "execution_count": 21,
     "metadata": {},
     "output_type": "execute_result"
    }
   ],
   "source": [
    "df.describe().transpose()"
   ]
  },
  {
   "cell_type": "code",
   "execution_count": null,
   "metadata": {},
   "outputs": [],
   "source": []
  },
  {
   "cell_type": "code",
   "execution_count": 1,
   "metadata": {},
   "outputs": [
    {
     "name": "stdout",
     "output_type": "stream",
     "text": "Market_Basket_Optimisation.csv\nMatrixFactorization.ipynb\nPopularityBasedRS.ipynb\n\u001b[34mProject\u001b[m\u001b[m\nRecommendation Systems_slides - Week2.pdf\nRecommendation systems Problem Statement.pdf\nSVD.ipynb\nSVD.pdf\nUntitled.code-workspace\napriori based recommendation.ipynb\ncontent based recommendation_detailed.ipynb\ncosine similarity example_demo\ncosine similarity example_test_result\ncosine similarity.ipynb\nitem-item collab filtering.ipynb\nitem-item cosine similarity.xlsx\nlinks.csv\nmatrix factorization.xlsx\nmatrix factorization_detailed.ipynb\nmovies (2).csv\nmovies.csv\npopularity based recommendations.ipynb\nratings (1).csv\nratings.csv\nsimilarty measures.ipynb\ntags.csv\nuser-user cosine similarity.xlsx\nuser-usercolabfilter.ipynb\n"
    }
   ],
   "source": []
  },
  {
   "cell_type": "code",
   "execution_count": null,
   "metadata": {},
   "outputs": [],
   "source": []
  }
 ]
}