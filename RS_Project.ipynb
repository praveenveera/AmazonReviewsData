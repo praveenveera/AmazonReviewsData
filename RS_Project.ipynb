{
 "nbformat": 4,
 "nbformat_minor": 2,
 "metadata": {
  "language_info": {
   "name": "python",
   "codemirror_mode": {
    "name": "ipython",
    "version": 3
   },
   "version": "3.7.2"
  },
  "orig_nbformat": 2,
  "file_extension": ".py",
  "mimetype": "text/x-python",
  "name": "python",
  "npconvert_exporter": "python",
  "pygments_lexer": "ipython3",
  "version": 3
 },
 "cells": [
  {
   "cell_type": "code",
   "execution_count": 97,
   "metadata": {},
   "outputs": [],
   "source": [
    "import numpy as np\n",
    "import pandas as pd\n",
    "import math\n",
    "import json\n",
    "import time\n",
    "import matplotlib.pyplot as plt\n",
    "import seaborn as sns\n",
    "from sklearn.metrics.pairwise import cosine_similarity\n",
    "from sklearn.model_selection import train_test_split\n",
    "from sklearn.neighbors import NearestNeighbors\n",
    "from sklearn.externals import joblib\n",
    "\n",
    "import scipy.sparse\n",
    "from scipy.sparse import csr_matrix\n",
    "import warnings; warnings.simplefilter('ignore')\n",
    "%matplotlib inline\n"
   ]
  },
  {
   "cell_type": "markdown",
   "execution_count": null,
   "metadata": {},
   "outputs": [],
   "source": [
    "<h3>Read and explore the given dataset. (Rename\n",
    "column/add headers, plot histograms, find data\n",
    "characteristics)</h3>"
   ]
  },
  {
   "cell_type": "code",
   "execution_count": 4,
   "metadata": {},
   "outputs": [],
   "source": [
    "column = ['userId','productId','Rating','timestamp']"
   ]
  },
  {
   "cell_type": "code",
   "execution_count": 5,
   "metadata": {},
   "outputs": [],
   "source": [
    "df = pd.read_csv('/Users/praveenveera/GreatLearning/MyUniversity/Academic project/Recommendation System/ratings_Electronics.csv',names = column)"
   ]
  },
  {
   "cell_type": "code",
   "execution_count": 6,
   "metadata": {},
   "outputs": [
    {
     "data": {
      "text/html": "<div>\n<style scoped>\n    .dataframe tbody tr th:only-of-type {\n        vertical-align: middle;\n    }\n\n    .dataframe tbody tr th {\n        vertical-align: top;\n    }\n\n    .dataframe thead th {\n        text-align: right;\n    }\n</style>\n<table border=\"1\" class=\"dataframe\">\n  <thead>\n    <tr style=\"text-align: right;\">\n      <th></th>\n      <th>userId</th>\n      <th>productId</th>\n      <th>Rating</th>\n      <th>timestamp</th>\n    </tr>\n  </thead>\n  <tbody>\n    <tr>\n      <th>0</th>\n      <td>AKM1MP6P0OYPR</td>\n      <td>0132793040</td>\n      <td>5.0</td>\n      <td>1365811200</td>\n    </tr>\n    <tr>\n      <th>1</th>\n      <td>A2CX7LUOHB2NDG</td>\n      <td>0321732944</td>\n      <td>5.0</td>\n      <td>1341100800</td>\n    </tr>\n    <tr>\n      <th>2</th>\n      <td>A2NWSAGRHCP8N5</td>\n      <td>0439886341</td>\n      <td>1.0</td>\n      <td>1367193600</td>\n    </tr>\n    <tr>\n      <th>3</th>\n      <td>A2WNBOD3WNDNKT</td>\n      <td>0439886341</td>\n      <td>3.0</td>\n      <td>1374451200</td>\n    </tr>\n    <tr>\n      <th>4</th>\n      <td>A1GI0U4ZRJA8WN</td>\n      <td>0439886341</td>\n      <td>1.0</td>\n      <td>1334707200</td>\n    </tr>\n  </tbody>\n</table>\n</div>",
      "text/plain": "           userId   productId  Rating   timestamp\n0   AKM1MP6P0OYPR  0132793040     5.0  1365811200\n1  A2CX7LUOHB2NDG  0321732944     5.0  1341100800\n2  A2NWSAGRHCP8N5  0439886341     1.0  1367193600\n3  A2WNBOD3WNDNKT  0439886341     3.0  1374451200\n4  A1GI0U4ZRJA8WN  0439886341     1.0  1334707200"
     },
     "execution_count": 6,
     "metadata": {},
     "output_type": "execute_result"
    }
   ],
   "source": [
    "df.head()"
   ]
  },
  {
   "cell_type": "code",
   "execution_count": 7,
   "metadata": {},
   "outputs": [],
   "source": [
    "# Shape of the data\n",
    "rows,columns = df.shape"
   ]
  },
  {
   "cell_type": "code",
   "execution_count": 8,
   "metadata": {},
   "outputs": [
    {
     "name": "stdout",
     "output_type": "stream",
     "text": "Rows: 7824482, Columns: 4 \n"
    }
   ],
   "source": [
    "print('Rows: {0}, Columns: {1} '.format(rows,columns))"
   ]
  },
  {
   "cell_type": "code",
   "execution_count": 9,
   "metadata": {},
   "outputs": [
    {
     "name": "stdout",
     "output_type": "stream",
     "text": "<class 'pandas.core.frame.DataFrame'>\nRangeIndex: 7824482 entries, 0 to 7824481\nData columns (total 4 columns):\nuserId       object\nproductId    object\nRating       float64\ntimestamp    int64\ndtypes: float64(1), int64(1), object(2)\nmemory usage: 238.8+ MB\n"
    }
   ],
   "source": [
    "# \n",
    "df.info()"
   ]
  },
  {
   "cell_type": "markdown",
   "metadata": {},
   "outputs": [],
   "source": [
    "It looks like we have a dataset of 4 columns out of which 2 are object datatype. We may need to drill down and see what the data actually look like. \n",
    "Other two columns having one Float and one Int"
   ]
  },
  {
   "cell_type": "code",
   "execution_count": 10,
   "metadata": {},
   "outputs": [
    {
     "data": {
      "text/plain": "userId       0\nproductId    0\nRating       0\ntimestamp    0\ndtype: int64"
     },
     "execution_count": 10,
     "metadata": {},
     "output_type": "execute_result"
    }
   ],
   "source": [
    "# Check the Null values\n",
    "df.isna().sum()"
   ]
  },
  {
   "cell_type": "markdown",
   "execution_count": 70,
   "metadata": {},
   "outputs": [
    {
     "ename": "SyntaxError",
     "evalue": "invalid syntax (<ipython-input-70-93833220a566>, line 1)",
     "output_type": "error",
     "traceback": [
      "\u001b[0;36m  File \u001b[0;32m\"<ipython-input-70-93833220a566>\"\u001b[0;36m, line \u001b[0;32m1\u001b[0m\n\u001b[0;31m    <p>There are no null values in the Dataset</p>\u001b[0m\n\u001b[0m    ^\u001b[0m\n\u001b[0;31mSyntaxError\u001b[0m\u001b[0;31m:\u001b[0m invalid syntax\n"
     ]
    }
   ],
   "source": [
    "<p>There are no null values in the Dataset</p>"
   ]
  },
  {
   "cell_type": "code",
   "execution_count": 11,
   "metadata": {},
   "outputs": [
    {
     "data": {
      "text/plain": "count    7.824482e+06\nmean     4.012337e+00\nstd      1.380910e+00\nmin      1.000000e+00\n25%      3.000000e+00\n50%      5.000000e+00\n75%      5.000000e+00\nmax      5.000000e+00\nName: Rating, dtype: float64"
     },
     "execution_count": 11,
     "metadata": {},
     "output_type": "execute_result"
    }
   ],
   "source": [
    "df['Rating'].describe().transpose()"
   ]
  },
  {
   "cell_type": "code",
   "execution_count": 72,
   "metadata": {},
   "outputs": [
    {
     "name": "stdout",
     "output_type": "stream",
     "text": "User who provided max number of rating\n"
    },
    {
     "data": {
      "text/plain": "901765"
     },
     "execution_count": 72,
     "metadata": {},
     "output_type": "execute_result"
    }
   ],
   "source": [
    "# No of users provided min rating\n",
    "print('User who provided max number of rating')\n",
    "df['userId'][df.Rating == df['Rating'].min()].count()"
   ]
  },
  {
   "cell_type": "code",
   "execution_count": 13,
   "metadata": {},
   "outputs": [
    {
     "data": {
      "text/plain": "4347541"
     },
     "execution_count": 13,
     "metadata": {},
     "output_type": "execute_result"
    }
   ],
   "source": [
    "# No of users provided max rating\n",
    "print('User who provided miMan number of rating')\n",
    "df['userId'][df.Rating == df['Rating'].max()].count()"
   ]
  },
  {
   "cell_type": "code",
   "execution_count": 134,
   "metadata": {},
   "outputs": [
    {
     "data": {
      "image/png": "[encoded data removed]",
      "image/svg+xml": "<?xml version=\"1.0\" encoding=\"utf-8\" standalone=\"no\"?>\n<!DOCTYPE svg PUBLIC \"-//W3C//DTD SVG 1.1//EN\"\n  \"http://www.w3.org/Graphics/SVG/1.1/DTD/svg11.dtd\">\n<!-- Created with matplotlib (https://matplotlib.org/) -->\n<svg height=\"354.15625pt\" version=\"1.1\" viewBox=\"0 0 732.390625 354.15625\" width=\"732.390625pt\" xmlns=\"http://www.w3.org/2000/svg\" xmlns:xlink=\"http://www.w3.org/1999/xlink\">\n <defs>\n  <style type=\"text/css\">\n*{stroke-linecap:butt;stroke-linejoin:round;}\n  </style>\n </defs>\n <g id=\"figure_1\">\n  <g id=\"patch_1\">\n   <path d=\"M 0 354.15625 \nL 732.390625 354.15625 \nL 732.390625 0 \nL 0 0 \nz\n\" style=\"fill:#ffffff;\"/>\n  </g>\n  <g id=\"axes_1\">\n   <g id=\"patch_2\">\n    <path d=\"M 72.415625 316.6 \nL 721.690625 316.6 \nL 721.690625 10.7 \nL 72.415625 10.7 \nz\n\" style=\"fill:#ffffff;\"/>\n   </g>\n   <g id=\"matplotlib.axis_1\">\n    <g id=\"xtick_1\">\n     <g id=\"text_1\">\n      <!-- 1.0 -->\n      <defs>\n       <path d=\"M 12.40625 8.296875 \nL 28.515625 8.296875 \nL 28.515625 63.921875 \nL 10.984375 60.40625 \nL 10.984375 69.390625 \nL 28.421875 72.90625 \nL 38.28125 72.90625 \nL 38.28125 8.296875 \nL 54.390625 8.296875 \nL 54.390625 0 \nL 12.40625 0 \nz\n\" id=\"DejaVuSans-49\"/>\n       <path d=\"M 10.6875 12.40625 \nL 21 12.40625 \nL 21 0 \nL 10.6875 0 \nz\n\" id=\"DejaVuSans-46\"/>\n       <path d=\"M 31.78125 66.40625 \nQ 24.171875 66.40625 20.328125 58.90625 \nQ 16.5 51.421875 16.5 36.375 \nQ 16.5 21.390625 20.328125 13.890625 \nQ 24.171875 6.390625 31.78125 6.390625 \nQ 39.453125 6.390625 43.28125 13.890625 \nQ 47.125 21.390625 47.125 36.375 \nQ 47.125 51.421875 43.28125 58.90625 \nQ 39.453125 66.40625 31.78125 66.40625 \nz\nM 31.78125 74.21875 \nQ 44.046875 74.21875 50.515625 64.515625 \nQ 56.984375 54.828125 56.984375 36.375 \nQ 56.984375 17.96875 50.515625 8.265625 \nQ 44.046875 -1.421875 31.78125 -1.421875 \nQ 19.53125 -1.421875 13.0625 8.265625 \nQ 6.59375 17.96875 6.59375 36.375 \nQ 6.59375 54.828125 13.0625 64.515625 \nQ 19.53125 74.21875 31.78125 74.21875 \nz\n\" id=\"DejaVuSans-48\"/>\n      </defs>\n      <g style=\"fill:#262626;\" transform=\"translate(129.391563 331.198438)scale(0.1 -0.1)\">\n       <use xlink:href=\"#DejaVuSans-49\"/>\n       <use x=\"63.623047\" xlink:href=\"#DejaVuSans-46\"/>\n       <use x=\"95.410156\" xlink:href=\"#DejaVuSans-48\"/>\n      </g>\n     </g>\n    </g>\n    <g id=\"xtick_2\">\n     <g id=\"text_2\">\n      <!-- 2.0 -->\n      <defs>\n       <path d=\"M 19.1875 8.296875 \nL 53.609375 8.296875 \nL 53.609375 0 \nL 7.328125 0 \nL 7.328125 8.296875 \nQ 12.9375 14.109375 22.625 23.890625 \nQ 32.328125 33.6875 34.8125 36.53125 \nQ 39.546875 41.84375 41.421875 45.53125 \nQ 43.3125 49.21875 43.3125 52.78125 \nQ 43.3125 58.59375 39.234375 62.25 \nQ 35.15625 65.921875 28.609375 65.921875 \nQ 23.96875 65.921875 18.8125 64.3125 \nQ 13.671875 62.703125 7.8125 59.421875 \nL 7.8125 69.390625 \nQ 13.765625 71.78125 18.9375 73 \nQ 24.125 74.21875 28.421875 74.21875 \nQ 39.75 74.21875 46.484375 68.546875 \nQ 53.21875 62.890625 53.21875 53.421875 \nQ 53.21875 48.921875 51.53125 44.890625 \nQ 49.859375 40.875 45.40625 35.40625 \nQ 44.1875 33.984375 37.640625 27.21875 \nQ 31.109375 20.453125 19.1875 8.296875 \nz\n\" id=\"DejaVuSans-50\"/>\n      </defs>\n      <g style=\"fill:#262626;\" transform=\"translate(259.246562 331.198438)scale(0.1 -0.1)\">\n       <use xlink:href=\"#DejaVuSans-50\"/>\n       <use x=\"63.623047\" xlink:href=\"#DejaVuSans-46\"/>\n       <use x=\"95.410156\" xlink:href=\"#DejaVuSans-48\"/>\n      </g>\n     </g>\n    </g>\n    <g id=\"xtick_3\">\n     <g id=\"text_3\">\n      <!-- 3.0 -->\n      <defs>\n       <path d=\"M 40.578125 39.3125 \nQ 47.65625 37.796875 51.625 33 \nQ 55.609375 28.21875 55.609375 21.1875 \nQ 55.609375 10.40625 48.1875 4.484375 \nQ 40.765625 -1.421875 27.09375 -1.421875 \nQ 22.515625 -1.421875 17.65625 -0.515625 \nQ 12.796875 0.390625 7.625 2.203125 \nL 7.625 11.71875 \nQ 11.71875 9.328125 16.59375 8.109375 \nQ 21.484375 6.890625 26.8125 6.890625 \nQ 36.078125 6.890625 40.9375 10.546875 \nQ 45.796875 14.203125 45.796875 21.1875 \nQ 45.796875 27.640625 41.28125 31.265625 \nQ 36.765625 34.90625 28.71875 34.90625 \nL 20.21875 34.90625 \nL 20.21875 43.015625 \nL 29.109375 43.015625 \nQ 36.375 43.015625 40.234375 45.921875 \nQ 44.09375 48.828125 44.09375 54.296875 \nQ 44.09375 59.90625 40.109375 62.90625 \nQ 36.140625 65.921875 28.71875 65.921875 \nQ 24.65625 65.921875 20.015625 65.03125 \nQ 15.375 64.15625 9.8125 62.3125 \nL 9.8125 71.09375 \nQ 15.4375 72.65625 20.34375 73.4375 \nQ 25.25 74.21875 29.59375 74.21875 \nQ 40.828125 74.21875 47.359375 69.109375 \nQ 53.90625 64.015625 53.90625 55.328125 \nQ 53.90625 49.265625 50.4375 45.09375 \nQ 46.96875 40.921875 40.578125 39.3125 \nz\n\" id=\"DejaVuSans-51\"/>\n      </defs>\n      <g style=\"fill:#262626;\" transform=\"translate(389.101562 331.198438)scale(0.1 -0.1)\">\n       <use xlink:href=\"#DejaVuSans-51\"/>\n       <use x=\"63.623047\" xlink:href=\"#DejaVuSans-46\"/>\n       <use x=\"95.410156\" xlink:href=\"#DejaVuSans-48\"/>\n      </g>\n     </g>\n    </g>\n    <g id=\"xtick_4\">\n     <g id=\"text_4\">\n      <!-- 4.0 -->\n      <defs>\n       <path d=\"M 37.796875 64.3125 \nL 12.890625 25.390625 \nL 37.796875 25.390625 \nz\nM 35.203125 72.90625 \nL 47.609375 72.90625 \nL 47.609375 25.390625 \nL 58.015625 25.390625 \nL 58.015625 17.1875 \nL 47.609375 17.1875 \nL 47.609375 0 \nL 37.796875 0 \nL 37.796875 17.1875 \nL 4.890625 17.1875 \nL 4.890625 26.703125 \nz\n\" id=\"DejaVuSans-52\"/>\n      </defs>\n      <g style=\"fill:#262626;\" transform=\"translate(518.956563 331.198438)scale(0.1 -0.1)\">\n       <use xlink:href=\"#DejaVuSans-52\"/>\n       <use x=\"63.623047\" xlink:href=\"#DejaVuSans-46\"/>\n       <use x=\"95.410156\" xlink:href=\"#DejaVuSans-48\"/>\n      </g>\n     </g>\n    </g>\n    <g id=\"xtick_5\">\n     <g id=\"text_5\">\n      <!-- 5.0 -->\n      <defs>\n       <path d=\"M 10.796875 72.90625 \nL 49.515625 72.90625 \nL 49.515625 64.59375 \nL 19.828125 64.59375 \nL 19.828125 46.734375 \nQ 21.96875 47.46875 24.109375 47.828125 \nQ 26.265625 48.1875 28.421875 48.1875 \nQ 40.625 48.1875 47.75 41.5 \nQ 54.890625 34.8125 54.890625 23.390625 \nQ 54.890625 11.625 47.5625 5.09375 \nQ 40.234375 -1.421875 26.90625 -1.421875 \nQ 22.3125 -1.421875 17.546875 -0.640625 \nQ 12.796875 0.140625 7.71875 1.703125 \nL 7.71875 11.625 \nQ 12.109375 9.234375 16.796875 8.0625 \nQ 21.484375 6.890625 26.703125 6.890625 \nQ 35.15625 6.890625 40.078125 11.328125 \nQ 45.015625 15.765625 45.015625 23.390625 \nQ 45.015625 31 40.078125 35.4375 \nQ 35.15625 39.890625 26.703125 39.890625 \nQ 22.75 39.890625 18.8125 39.015625 \nQ 14.890625 38.140625 10.796875 36.28125 \nz\n\" id=\"DejaVuSans-53\"/>\n      </defs>\n      <g style=\"fill:#262626;\" transform=\"translate(648.811563 331.198438)scale(0.1 -0.1)\">\n       <use xlink:href=\"#DejaVuSans-53\"/>\n       <use x=\"63.623047\" xlink:href=\"#DejaVuSans-46\"/>\n       <use x=\"95.410156\" xlink:href=\"#DejaVuSans-48\"/>\n      </g>\n     </g>\n    </g>\n    <g id=\"text_6\">\n     <!-- Rating -->\n     <defs>\n      <path d=\"M 44.390625 34.1875 \nQ 47.5625 33.109375 50.5625 29.59375 \nQ 53.5625 26.078125 56.59375 19.921875 \nL 66.609375 0 \nL 56 0 \nL 46.6875 18.703125 \nQ 43.0625 26.03125 39.671875 28.421875 \nQ 36.28125 30.8125 30.421875 30.8125 \nL 19.671875 30.8125 \nL 19.671875 0 \nL 9.8125 0 \nL 9.8125 72.90625 \nL 32.078125 72.90625 \nQ 44.578125 72.90625 50.734375 67.671875 \nQ 56.890625 62.453125 56.890625 51.90625 \nQ 56.890625 45.015625 53.6875 40.46875 \nQ 50.484375 35.9375 44.390625 34.1875 \nz\nM 19.671875 64.796875 \nL 19.671875 38.921875 \nL 32.078125 38.921875 \nQ 39.203125 38.921875 42.84375 42.21875 \nQ 46.484375 45.515625 46.484375 51.90625 \nQ 46.484375 58.296875 42.84375 61.546875 \nQ 39.203125 64.796875 32.078125 64.796875 \nz\n\" id=\"DejaVuSans-82\"/>\n      <path d=\"M 34.28125 27.484375 \nQ 23.390625 27.484375 19.1875 25 \nQ 14.984375 22.515625 14.984375 16.5 \nQ 14.984375 11.71875 18.140625 8.90625 \nQ 21.296875 6.109375 26.703125 6.109375 \nQ 34.1875 6.109375 38.703125 11.40625 \nQ 43.21875 16.703125 43.21875 25.484375 \nL 43.21875 27.484375 \nz\nM 52.203125 31.203125 \nL 52.203125 0 \nL 43.21875 0 \nL 43.21875 8.296875 \nQ 40.140625 3.328125 35.546875 0.953125 \nQ 30.953125 -1.421875 24.3125 -1.421875 \nQ 15.921875 -1.421875 10.953125 3.296875 \nQ 6 8.015625 6 15.921875 \nQ 6 25.140625 12.171875 29.828125 \nQ 18.359375 34.515625 30.609375 34.515625 \nL 43.21875 34.515625 \nL 43.21875 35.40625 \nQ 43.21875 41.609375 39.140625 45 \nQ 35.0625 48.390625 27.6875 48.390625 \nQ 23 48.390625 18.546875 47.265625 \nQ 14.109375 46.140625 10.015625 43.890625 \nL 10.015625 52.203125 \nQ 14.9375 54.109375 19.578125 55.046875 \nQ 24.21875 56 28.609375 56 \nQ 40.484375 56 46.34375 49.84375 \nQ 52.203125 43.703125 52.203125 31.203125 \nz\n\" id=\"DejaVuSans-97\"/>\n      <path d=\"M 18.3125 70.21875 \nL 18.3125 54.6875 \nL 36.8125 54.6875 \nL 36.8125 47.703125 \nL 18.3125 47.703125 \nL 18.3125 18.015625 \nQ 18.3125 11.328125 20.140625 9.421875 \nQ 21.96875 7.515625 27.59375 7.515625 \nL 36.8125 7.515625 \nL 36.8125 0 \nL 27.59375 0 \nQ 17.1875 0 13.234375 3.875 \nQ 9.28125 7.765625 9.28125 18.015625 \nL 9.28125 47.703125 \nL 2.6875 47.703125 \nL 2.6875 54.6875 \nL 9.28125 54.6875 \nL 9.28125 70.21875 \nz\n\" id=\"DejaVuSans-116\"/>\n      <path d=\"M 9.421875 54.6875 \nL 18.40625 54.6875 \nL 18.40625 0 \nL 9.421875 0 \nz\nM 9.421875 75.984375 \nL 18.40625 75.984375 \nL 18.40625 64.59375 \nL 9.421875 64.59375 \nz\n\" id=\"DejaVuSans-105\"/>\n      <path d=\"M 54.890625 33.015625 \nL 54.890625 0 \nL 45.90625 0 \nL 45.90625 32.71875 \nQ 45.90625 40.484375 42.875 44.328125 \nQ 39.84375 48.1875 33.796875 48.1875 \nQ 26.515625 48.1875 22.3125 43.546875 \nQ 18.109375 38.921875 18.109375 30.90625 \nL 18.109375 0 \nL 9.078125 0 \nL 9.078125 54.6875 \nL 18.109375 54.6875 \nL 18.109375 46.1875 \nQ 21.34375 51.125 25.703125 53.5625 \nQ 30.078125 56 35.796875 56 \nQ 45.21875 56 50.046875 50.171875 \nQ 54.890625 44.34375 54.890625 33.015625 \nz\n\" id=\"DejaVuSans-110\"/>\n      <path d=\"M 45.40625 27.984375 \nQ 45.40625 37.75 41.375 43.109375 \nQ 37.359375 48.484375 30.078125 48.484375 \nQ 22.859375 48.484375 18.828125 43.109375 \nQ 14.796875 37.75 14.796875 27.984375 \nQ 14.796875 18.265625 18.828125 12.890625 \nQ 22.859375 7.515625 30.078125 7.515625 \nQ 37.359375 7.515625 41.375 12.890625 \nQ 45.40625 18.265625 45.40625 27.984375 \nz\nM 54.390625 6.78125 \nQ 54.390625 -7.171875 48.1875 -13.984375 \nQ 42 -20.796875 29.203125 -20.796875 \nQ 24.46875 -20.796875 20.265625 -20.09375 \nQ 16.0625 -19.390625 12.109375 -17.921875 \nL 12.109375 -9.1875 \nQ 16.0625 -11.328125 19.921875 -12.34375 \nQ 23.78125 -13.375 27.78125 -13.375 \nQ 36.625 -13.375 41.015625 -8.765625 \nQ 45.40625 -4.15625 45.40625 5.171875 \nL 45.40625 9.625 \nQ 42.625 4.78125 38.28125 2.390625 \nQ 33.9375 0 27.875 0 \nQ 17.828125 0 11.671875 7.65625 \nQ 5.515625 15.328125 5.515625 27.984375 \nQ 5.515625 40.671875 11.671875 48.328125 \nQ 17.828125 56 27.875 56 \nQ 33.9375 56 38.28125 53.609375 \nQ 42.625 51.21875 45.40625 46.390625 \nL 45.40625 54.6875 \nL 54.390625 54.6875 \nz\n\" id=\"DejaVuSans-103\"/>\n     </defs>\n     <g style=\"fill:#262626;\" transform=\"translate(380.824219 344.876562)scale(0.1 -0.1)\">\n      <use xlink:href=\"#DejaVuSans-82\"/>\n      <use x=\"69.451172\" xlink:href=\"#DejaVuSans-97\"/>\n      <use x=\"130.730469\" xlink:href=\"#DejaVuSans-116\"/>\n      <use x=\"169.939453\" xlink:href=\"#DejaVuSans-105\"/>\n      <use x=\"197.722656\" xlink:href=\"#DejaVuSans-110\"/>\n      <use x=\"261.101562\" xlink:href=\"#DejaVuSans-103\"/>\n     </g>\n    </g>\n   </g>\n   <g id=\"matplotlib.axis_2\">\n    <g id=\"ytick_1\">\n     <g id=\"text_7\">\n      <!-- 0 -->\n      <g style=\"fill:#262626;\" transform=\"translate(59.053125 320.399219)scale(0.1 -0.1)\">\n       <use xlink:href=\"#DejaVuSans-48\"/>\n      </g>\n     </g>\n    </g>\n    <g id=\"ytick_2\">\n     <g id=\"text_8\">\n      <!-- 1000000 -->\n      <g style=\"fill:#262626;\" transform=\"translate(20.878125 253.388158)scale(0.1 -0.1)\">\n       <use xlink:href=\"#DejaVuSans-49\"/>\n       <use x=\"63.623047\" xlink:href=\"#DejaVuSans-48\"/>\n       <use x=\"127.246094\" xlink:href=\"#DejaVuSans-48\"/>\n       <use x=\"190.869141\" xlink:href=\"#DejaVuSans-48\"/>\n       <use x=\"254.492188\" xlink:href=\"#DejaVuSans-48\"/>\n       <use x=\"318.115234\" xlink:href=\"#DejaVuSans-48\"/>\n       <use x=\"381.738281\" xlink:href=\"#DejaVuSans-48\"/>\n      </g>\n     </g>\n    </g>\n    <g id=\"ytick_3\">\n     <g id=\"text_9\">\n      <!-- 2000000 -->\n      <g style=\"fill:#262626;\" transform=\"translate(20.878125 186.377098)scale(0.1 -0.1)\">\n       <use xlink:href=\"#DejaVuSans-50\"/>\n       <use x=\"63.623047\" xlink:href=\"#DejaVuSans-48\"/>\n       <use x=\"127.246094\" xlink:href=\"#DejaVuSans-48\"/>\n       <use x=\"190.869141\" xlink:href=\"#DejaVuSans-48\"/>\n       <use x=\"254.492188\" xlink:href=\"#DejaVuSans-48\"/>\n       <use x=\"318.115234\" xlink:href=\"#DejaVuSans-48\"/>\n       <use x=\"381.738281\" xlink:href=\"#DejaVuSans-48\"/>\n      </g>\n     </g>\n    </g>\n    <g id=\"ytick_4\">\n     <g id=\"text_10\">\n      <!-- 3000000 -->\n      <g style=\"fill:#262626;\" transform=\"translate(20.878125 119.366037)scale(0.1 -0.1)\">\n       <use xlink:href=\"#DejaVuSans-51\"/>\n       <use x=\"63.623047\" xlink:href=\"#DejaVuSans-48\"/>\n       <use x=\"127.246094\" xlink:href=\"#DejaVuSans-48\"/>\n       <use x=\"190.869141\" xlink:href=\"#DejaVuSans-48\"/>\n       <use x=\"254.492188\" xlink:href=\"#DejaVuSans-48\"/>\n       <use x=\"318.115234\" xlink:href=\"#DejaVuSans-48\"/>\n       <use x=\"381.738281\" xlink:href=\"#DejaVuSans-48\"/>\n      </g>\n     </g>\n    </g>\n    <g id=\"ytick_5\">\n     <g id=\"text_11\">\n      <!-- 4000000 -->\n      <g style=\"fill:#262626;\" transform=\"translate(20.878125 52.354976)scale(0.1 -0.1)\">\n       <use xlink:href=\"#DejaVuSans-52\"/>\n       <use x=\"63.623047\" xlink:href=\"#DejaVuSans-48\"/>\n       <use x=\"127.246094\" xlink:href=\"#DejaVuSans-48\"/>\n       <use x=\"190.869141\" xlink:href=\"#DejaVuSans-48\"/>\n       <use x=\"254.492188\" xlink:href=\"#DejaVuSans-48\"/>\n       <use x=\"318.115234\" xlink:href=\"#DejaVuSans-48\"/>\n       <use x=\"381.738281\" xlink:href=\"#DejaVuSans-48\"/>\n      </g>\n     </g>\n    </g>\n    <g id=\"text_12\">\n     <!-- Total number of ratings -->\n     <defs>\n      <path d=\"M -0.296875 72.90625 \nL 61.375 72.90625 \nL 61.375 64.59375 \nL 35.5 64.59375 \nL 35.5 0 \nL 25.59375 0 \nL 25.59375 64.59375 \nL -0.296875 64.59375 \nz\n\" id=\"DejaVuSans-84\"/>\n      <path d=\"M 30.609375 48.390625 \nQ 23.390625 48.390625 19.1875 42.75 \nQ 14.984375 37.109375 14.984375 27.296875 \nQ 14.984375 17.484375 19.15625 11.84375 \nQ 23.34375 6.203125 30.609375 6.203125 \nQ 37.796875 6.203125 41.984375 11.859375 \nQ 46.1875 17.53125 46.1875 27.296875 \nQ 46.1875 37.015625 41.984375 42.703125 \nQ 37.796875 48.390625 30.609375 48.390625 \nz\nM 30.609375 56 \nQ 42.328125 56 49.015625 48.375 \nQ 55.71875 40.765625 55.71875 27.296875 \nQ 55.71875 13.875 49.015625 6.21875 \nQ 42.328125 -1.421875 30.609375 -1.421875 \nQ 18.84375 -1.421875 12.171875 6.21875 \nQ 5.515625 13.875 5.515625 27.296875 \nQ 5.515625 40.765625 12.171875 48.375 \nQ 18.84375 56 30.609375 56 \nz\n\" id=\"DejaVuSans-111\"/>\n      <path d=\"M 9.421875 75.984375 \nL 18.40625 75.984375 \nL 18.40625 0 \nL 9.421875 0 \nz\n\" id=\"DejaVuSans-108\"/>\n      <path id=\"DejaVuSans-32\"/>\n      <path d=\"M 8.5 21.578125 \nL 8.5 54.6875 \nL 17.484375 54.6875 \nL 17.484375 21.921875 \nQ 17.484375 14.15625 20.5 10.265625 \nQ 23.53125 6.390625 29.59375 6.390625 \nQ 36.859375 6.390625 41.078125 11.03125 \nQ 45.3125 15.671875 45.3125 23.6875 \nL 45.3125 54.6875 \nL 54.296875 54.6875 \nL 54.296875 0 \nL 45.3125 0 \nL 45.3125 8.40625 \nQ 42.046875 3.421875 37.71875 1 \nQ 33.40625 -1.421875 27.6875 -1.421875 \nQ 18.265625 -1.421875 13.375 4.4375 \nQ 8.5 10.296875 8.5 21.578125 \nz\nM 31.109375 56 \nz\n\" id=\"DejaVuSans-117\"/>\n      <path d=\"M 52 44.1875 \nQ 55.375 50.25 60.0625 53.125 \nQ 64.75 56 71.09375 56 \nQ 79.640625 56 84.28125 50.015625 \nQ 88.921875 44.046875 88.921875 33.015625 \nL 88.921875 0 \nL 79.890625 0 \nL 79.890625 32.71875 \nQ 79.890625 40.578125 77.09375 44.375 \nQ 74.3125 48.1875 68.609375 48.1875 \nQ 61.625 48.1875 57.5625 43.546875 \nQ 53.515625 38.921875 53.515625 30.90625 \nL 53.515625 0 \nL 44.484375 0 \nL 44.484375 32.71875 \nQ 44.484375 40.625 41.703125 44.40625 \nQ 38.921875 48.1875 33.109375 48.1875 \nQ 26.21875 48.1875 22.15625 43.53125 \nQ 18.109375 38.875 18.109375 30.90625 \nL 18.109375 0 \nL 9.078125 0 \nL 9.078125 54.6875 \nL 18.109375 54.6875 \nL 18.109375 46.1875 \nQ 21.1875 51.21875 25.484375 53.609375 \nQ 29.78125 56 35.6875 56 \nQ 41.65625 56 45.828125 52.96875 \nQ 50 49.953125 52 44.1875 \nz\n\" id=\"DejaVuSans-109\"/>\n      <path d=\"M 48.6875 27.296875 \nQ 48.6875 37.203125 44.609375 42.84375 \nQ 40.53125 48.484375 33.40625 48.484375 \nQ 26.265625 48.484375 22.1875 42.84375 \nQ 18.109375 37.203125 18.109375 27.296875 \nQ 18.109375 17.390625 22.1875 11.75 \nQ 26.265625 6.109375 33.40625 6.109375 \nQ 40.53125 6.109375 44.609375 11.75 \nQ 48.6875 17.390625 48.6875 27.296875 \nz\nM 18.109375 46.390625 \nQ 20.953125 51.265625 25.265625 53.625 \nQ 29.59375 56 35.59375 56 \nQ 45.5625 56 51.78125 48.09375 \nQ 58.015625 40.1875 58.015625 27.296875 \nQ 58.015625 14.40625 51.78125 6.484375 \nQ 45.5625 -1.421875 35.59375 -1.421875 \nQ 29.59375 -1.421875 25.265625 0.953125 \nQ 20.953125 3.328125 18.109375 8.203125 \nL 18.109375 0 \nL 9.078125 0 \nL 9.078125 75.984375 \nL 18.109375 75.984375 \nz\n\" id=\"DejaVuSans-98\"/>\n      <path d=\"M 56.203125 29.59375 \nL 56.203125 25.203125 \nL 14.890625 25.203125 \nQ 15.484375 15.921875 20.484375 11.0625 \nQ 25.484375 6.203125 34.421875 6.203125 \nQ 39.59375 6.203125 44.453125 7.46875 \nQ 49.3125 8.734375 54.109375 11.28125 \nL 54.109375 2.78125 \nQ 49.265625 0.734375 44.1875 -0.34375 \nQ 39.109375 -1.421875 33.890625 -1.421875 \nQ 20.796875 -1.421875 13.15625 6.1875 \nQ 5.515625 13.8125 5.515625 26.8125 \nQ 5.515625 40.234375 12.765625 48.109375 \nQ 20.015625 56 32.328125 56 \nQ 43.359375 56 49.78125 48.890625 \nQ 56.203125 41.796875 56.203125 29.59375 \nz\nM 47.21875 32.234375 \nQ 47.125 39.59375 43.09375 43.984375 \nQ 39.0625 48.390625 32.421875 48.390625 \nQ 24.90625 48.390625 20.390625 44.140625 \nQ 15.875 39.890625 15.1875 32.171875 \nz\n\" id=\"DejaVuSans-101\"/>\n      <path d=\"M 41.109375 46.296875 \nQ 39.59375 47.171875 37.8125 47.578125 \nQ 36.03125 48 33.890625 48 \nQ 26.265625 48 22.1875 43.046875 \nQ 18.109375 38.09375 18.109375 28.8125 \nL 18.109375 0 \nL 9.078125 0 \nL 9.078125 54.6875 \nL 18.109375 54.6875 \nL 18.109375 46.1875 \nQ 20.953125 51.171875 25.484375 53.578125 \nQ 30.03125 56 36.53125 56 \nQ 37.453125 56 38.578125 55.875 \nQ 39.703125 55.765625 41.0625 55.515625 \nz\n\" id=\"DejaVuSans-114\"/>\n      <path d=\"M 37.109375 75.984375 \nL 37.109375 68.5 \nL 28.515625 68.5 \nQ 23.6875 68.5 21.796875 66.546875 \nQ 19.921875 64.59375 19.921875 59.515625 \nL 19.921875 54.6875 \nL 34.71875 54.6875 \nL 34.71875 47.703125 \nL 19.921875 47.703125 \nL 19.921875 0 \nL 10.890625 0 \nL 10.890625 47.703125 \nL 2.296875 47.703125 \nL 2.296875 54.6875 \nL 10.890625 54.6875 \nL 10.890625 58.5 \nQ 10.890625 67.625 15.140625 71.796875 \nQ 19.390625 75.984375 28.609375 75.984375 \nz\n\" id=\"DejaVuSans-102\"/>\n      <path d=\"M 44.28125 53.078125 \nL 44.28125 44.578125 \nQ 40.484375 46.53125 36.375 47.5 \nQ 32.28125 48.484375 27.875 48.484375 \nQ 21.1875 48.484375 17.84375 46.4375 \nQ 14.5 44.390625 14.5 40.28125 \nQ 14.5 37.15625 16.890625 35.375 \nQ 19.28125 33.59375 26.515625 31.984375 \nL 29.59375 31.296875 \nQ 39.15625 29.25 43.1875 25.515625 \nQ 47.21875 21.78125 47.21875 15.09375 \nQ 47.21875 7.46875 41.1875 3.015625 \nQ 35.15625 -1.421875 24.609375 -1.421875 \nQ 20.21875 -1.421875 15.453125 -0.5625 \nQ 10.6875 0.296875 5.421875 2 \nL 5.421875 11.28125 \nQ 10.40625 8.6875 15.234375 7.390625 \nQ 20.0625 6.109375 24.8125 6.109375 \nQ 31.15625 6.109375 34.5625 8.28125 \nQ 37.984375 10.453125 37.984375 14.40625 \nQ 37.984375 18.0625 35.515625 20.015625 \nQ 33.0625 21.96875 24.703125 23.78125 \nL 21.578125 24.515625 \nQ 13.234375 26.265625 9.515625 29.90625 \nQ 5.8125 33.546875 5.8125 39.890625 \nQ 5.8125 47.609375 11.28125 51.796875 \nQ 16.75 56 26.8125 56 \nQ 31.78125 56 36.171875 55.265625 \nQ 40.578125 54.546875 44.28125 53.078125 \nz\n\" id=\"DejaVuSans-115\"/>\n     </defs>\n     <g style=\"fill:#262626;\" transform=\"translate(14.798438 222.680469)rotate(-90)scale(0.1 -0.1)\">\n      <use xlink:href=\"#DejaVuSans-84\"/>\n      <use x=\"60.818359\" xlink:href=\"#DejaVuSans-111\"/>\n      <use x=\"122\" xlink:href=\"#DejaVuSans-116\"/>\n      <use x=\"161.208984\" xlink:href=\"#DejaVuSans-97\"/>\n      <use x=\"222.488281\" xlink:href=\"#DejaVuSans-108\"/>\n      <use x=\"250.271484\" xlink:href=\"#DejaVuSans-32\"/>\n      <use x=\"282.058594\" xlink:href=\"#DejaVuSans-110\"/>\n      <use x=\"345.4375\" xlink:href=\"#DejaVuSans-117\"/>\n      <use x=\"408.816406\" xlink:href=\"#DejaVuSans-109\"/>\n      <use x=\"506.228516\" xlink:href=\"#DejaVuSans-98\"/>\n      <use x=\"569.705078\" xlink:href=\"#DejaVuSans-101\"/>\n      <use x=\"631.228516\" xlink:href=\"#DejaVuSans-114\"/>\n      <use x=\"672.341797\" xlink:href=\"#DejaVuSans-32\"/>\n      <use x=\"704.128906\" xlink:href=\"#DejaVuSans-111\"/>\n      <use x=\"765.310547\" xlink:href=\"#DejaVuSans-102\"/>\n      <use x=\"800.515625\" xlink:href=\"#DejaVuSans-32\"/>\n      <use x=\"832.302734\" xlink:href=\"#DejaVuSans-114\"/>\n      <use x=\"873.416016\" xlink:href=\"#DejaVuSans-97\"/>\n      <use x=\"934.695312\" xlink:href=\"#DejaVuSans-116\"/>\n      <use x=\"973.904297\" xlink:href=\"#DejaVuSans-105\"/>\n      <use x=\"1001.6875\" xlink:href=\"#DejaVuSans-110\"/>\n      <use x=\"1065.066406\" xlink:href=\"#DejaVuSans-103\"/>\n      <use x=\"1128.542969\" xlink:href=\"#DejaVuSans-115\"/>\n     </g>\n    </g>\n   </g>\n   <g id=\"patch_3\">\n    <path clip-path=\"url(#p280ddc7980)\" d=\"M 85.401125 316.6 \nL 189.285125 316.6 \nL 189.285125 256.171771 \nL 85.401125 256.171771 \nz\n\" style=\"fill:#3274a1;stroke:#ffffff;stroke-linejoin:miter;\"/>\n   </g>\n   <g id=\"patch_4\">\n    <path clip-path=\"url(#p280ddc7980)\" d=\"M 215.256125 316.6 \nL 319.140125 316.6 \nL 319.140125 286.021379 \nL 215.256125 286.021379 \nz\n\" style=\"fill:#e1812c;stroke:#ffffff;stroke-linejoin:miter;\"/>\n   </g>\n   <g id=\"patch_5\">\n    <path clip-path=\"url(#p280ddc7980)\" d=\"M 345.111125 316.6 \nL 448.995125 316.6 \nL 448.995125 274.177107 \nL 345.111125 274.177107 \nz\n\" style=\"fill:#3a923a;stroke:#ffffff;stroke-linejoin:miter;\"/>\n   </g>\n   <g id=\"patch_6\">\n    <path clip-path=\"url(#p280ddc7980)\" d=\"M 474.966125 316.6 \nL 578.850125 316.6 \nL 578.850125 217.036239 \nL 474.966125 217.036239 \nz\n\" style=\"fill:#c03d3e;stroke:#ffffff;stroke-linejoin:miter;\"/>\n   </g>\n   <g id=\"patch_7\">\n    <path clip-path=\"url(#p280ddc7980)\" d=\"M 604.821125 316.6 \nL 708.705125 316.6 \nL 708.705125 25.266667 \nL 604.821125 25.266667 \nz\n\" style=\"fill:#9372b2;stroke:#ffffff;stroke-linejoin:miter;\"/>\n   </g>\n   <g id=\"patch_8\">\n    <path d=\"M 72.415625 316.6 \nL 72.415625 10.7 \n\" style=\"fill:none;stroke:#262626;stroke-linecap:square;stroke-linejoin:miter;stroke-width:0.8;\"/>\n   </g>\n   <g id=\"patch_9\">\n    <path d=\"M 72.415625 316.6 \nL 721.690625 316.6 \n\" style=\"fill:none;stroke:#262626;stroke-linecap:square;stroke-linejoin:miter;stroke-width:0.8;\"/>\n   </g>\n  </g>\n </g>\n <defs>\n  <clipPath id=\"p280ddc7980\">\n   <rect height=\"305.9\" width=\"649.275\" x=\"72.415625\" y=\"10.7\"/>\n  </clipPath>\n </defs>\n</svg>\n",
      "text/plain": "<Figure size 720x360 with 1 Axes>"
     },
     "metadata": {},
     "output_type": "display_data"
    }
   ],
   "source": [
    "# Check the distribution of ratings \n",
    "with sns.axes_style('white'):\n",
    "    g = sns.factorplot(\"Rating\", data=df, aspect=2.0,kind='count')\n",
    "    g.set_ylabels(\"Total number of ratings\") "
   ]
  },
  {
   "cell_type": "markdown",
   "execution_count": null,
   "metadata": {},
   "outputs": [],
   "source": [
    "<p>It look like majarity of the rating are given 5.0 followed by 4.0 and rest</p>\n",
    "<p>The min rating count given for 2.0</p>"
   ]
  },
  {
   "cell_type": "markdown",
   "execution_count": null,
   "metadata": {},
   "outputs": [],
   "source": [
    "<h3>Take a subset of the dataset to make it less sparse/ denser.\n",
    "( For example, keep the users only who has given 50 or\n",
    "more number of ratings )</h3>"
   ]
  },
  {
   "cell_type": "code",
   "execution_count": 15,
   "metadata": {},
   "outputs": [],
   "source": [
    "top=df['userId'].value_counts()"
   ]
  },
  {
   "cell_type": "code",
   "execution_count": 16,
   "metadata": {},
   "outputs": [],
   "source": [
    "top50 = top[top>=50]"
   ]
  },
  {
   "cell_type": "code",
   "execution_count": 17,
   "metadata": {},
   "outputs": [],
   "source": [
    "df_ready= df[df.userId.isin(top50.index)]"
   ]
  },
  {
   "cell_type": "code",
   "execution_count": 18,
   "metadata": {},
   "outputs": [],
   "source": [
    "df_ready.drop('timestamp',axis=1,inplace=True)"
   ]
  },
  {
   "cell_type": "code",
   "execution_count": 19,
   "metadata": {},
   "outputs": [
    {
     "data": {
      "text/html": "<div>\n<style scoped>\n    .dataframe tbody tr th:only-of-type {\n        vertical-align: middle;\n    }\n\n    .dataframe tbody tr th {\n        vertical-align: top;\n    }\n\n    .dataframe thead th {\n        text-align: right;\n    }\n</style>\n<table border=\"1\" class=\"dataframe\">\n  <thead>\n    <tr style=\"text-align: right;\">\n      <th></th>\n      <th>userId</th>\n      <th>productId</th>\n      <th>Rating</th>\n    </tr>\n  </thead>\n  <tbody>\n    <tr>\n      <th>94</th>\n      <td>A3BY5KCNQZXV5U</td>\n      <td>0594451647</td>\n      <td>5.0</td>\n    </tr>\n    <tr>\n      <th>118</th>\n      <td>AT09WGFUM934H</td>\n      <td>0594481813</td>\n      <td>3.0</td>\n    </tr>\n    <tr>\n      <th>177</th>\n      <td>A32HSNCNPRUMTR</td>\n      <td>0970407998</td>\n      <td>1.0</td>\n    </tr>\n    <tr>\n      <th>178</th>\n      <td>A17HMM1M7T9PJ1</td>\n      <td>0970407998</td>\n      <td>4.0</td>\n    </tr>\n    <tr>\n      <th>492</th>\n      <td>A3CLWR1UUZT6TG</td>\n      <td>0972683275</td>\n      <td>5.0</td>\n    </tr>\n  </tbody>\n</table>\n</div>",
      "text/plain": "             userId   productId  Rating\n94   A3BY5KCNQZXV5U  0594451647     5.0\n118   AT09WGFUM934H  0594481813     3.0\n177  A32HSNCNPRUMTR  0970407998     1.0\n178  A17HMM1M7T9PJ1  0970407998     4.0\n492  A3CLWR1UUZT6TG  0972683275     5.0"
     },
     "execution_count": 19,
     "metadata": {},
     "output_type": "execute_result"
    }
   ],
   "source": [
    "df_ready.head()"
   ]
  },
  {
   "cell_type": "code",
   "execution_count": 20,
   "metadata": {},
   "outputs": [
    {
     "name": "stdout",
     "output_type": "stream",
     "text": "<class 'pandas.core.frame.DataFrame'>\nInt64Index: 125871 entries, 94 to 7824444\nData columns (total 3 columns):\nuserId       125871 non-null object\nproductId    125871 non-null object\nRating       125871 non-null float64\ndtypes: float64(1), object(2)\nmemory usage: 3.8+ MB\n"
    }
   ],
   "source": [
    "df_ready.info()"
   ]
  },
  {
   "cell_type": "code",
   "execution_count": 60,
   "metadata": {},
   "outputs": [
    {
     "name": "stdout",
     "output_type": "stream",
     "text": "Shape of final_ratings_matrix:  (1540, 48190)\ngiven_num_of_ratings =  125871\npossible_num_of_ratings =  74212600\ndensity: 0.17%\n"
    }
   ],
   "source": [
    "# Calculate the density of the Rating Matrix\n",
    "\n",
    "rating_matrix = df_ready.pivot(index='userId',columns = 'productId',values='Rating').fillna(0)\n",
    "print('Shape of final_ratings_matrix: ', rating_matrix.shape)\n",
    "given_num_of_ratings = np.count_nonzero(rating_matrix)\n",
    "print('given_num_of_ratings = ', given_num_of_ratings)\n",
    "possible_num_of_ratings = rating_matrix.shape[0] * rating_matrix.shape[1]\n",
    "print('possible_num_of_ratings = ', possible_num_of_ratings)\n",
    "density = (given_num_of_ratings/possible_num_of_ratings)\n",
    "density *= 100\n",
    "print ('density: {:4.2f}%'.format(density))"
   ]
  },
  {
   "cell_type": "code",
   "execution_count": 22,
   "metadata": {},
   "outputs": [
    {
     "data": {
      "text/html": "<div>\n<style scoped>\n    .dataframe tbody tr th:only-of-type {\n        vertical-align: middle;\n    }\n\n    .dataframe tbody tr th {\n        vertical-align: top;\n    }\n\n    .dataframe thead th {\n        text-align: right;\n    }\n</style>\n<table border=\"1\" class=\"dataframe\">\n  <thead>\n    <tr style=\"text-align: right;\">\n      <th>productId</th>\n      <th>0594451647</th>\n      <th>0594481813</th>\n      <th>0970407998</th>\n      <th>0972683275</th>\n      <th>1400501466</th>\n      <th>1400501520</th>\n      <th>1400501776</th>\n      <th>1400532620</th>\n      <th>1400532655</th>\n      <th>140053271X</th>\n      <th>...</th>\n      <th>B00L5YZCCG</th>\n      <th>B00L8I6SFY</th>\n      <th>B00L8QCVL6</th>\n      <th>B00LA6T0LS</th>\n      <th>B00LBZ1Z7K</th>\n      <th>B00LED02VY</th>\n      <th>B00LGN7Y3G</th>\n      <th>B00LGQ6HL8</th>\n      <th>B00LI4ZZO8</th>\n      <th>B00LKG1MC8</th>\n    </tr>\n    <tr>\n      <th>userId</th>\n      <th></th>\n      <th></th>\n      <th></th>\n      <th></th>\n      <th></th>\n      <th></th>\n      <th></th>\n      <th></th>\n      <th></th>\n      <th></th>\n      <th></th>\n      <th></th>\n      <th></th>\n      <th></th>\n      <th></th>\n      <th></th>\n      <th></th>\n      <th></th>\n      <th></th>\n      <th></th>\n      <th></th>\n    </tr>\n  </thead>\n  <tbody>\n    <tr>\n      <th>A100UD67AHFODS</th>\n      <td>0.0</td>\n      <td>0.0</td>\n      <td>0.0</td>\n      <td>0.0</td>\n      <td>0.0</td>\n      <td>0.0</td>\n      <td>0.0</td>\n      <td>0.0</td>\n      <td>0.0</td>\n      <td>0.0</td>\n      <td>...</td>\n      <td>0.0</td>\n      <td>0.0</td>\n      <td>0.0</td>\n      <td>0.0</td>\n      <td>0.0</td>\n      <td>0.0</td>\n      <td>0.0</td>\n      <td>0.0</td>\n      <td>0.0</td>\n      <td>0.0</td>\n    </tr>\n    <tr>\n      <th>A100WO06OQR8BQ</th>\n      <td>0.0</td>\n      <td>0.0</td>\n      <td>0.0</td>\n      <td>0.0</td>\n      <td>0.0</td>\n      <td>0.0</td>\n      <td>0.0</td>\n      <td>0.0</td>\n      <td>0.0</td>\n      <td>0.0</td>\n      <td>...</td>\n      <td>0.0</td>\n      <td>0.0</td>\n      <td>0.0</td>\n      <td>0.0</td>\n      <td>0.0</td>\n      <td>0.0</td>\n      <td>0.0</td>\n      <td>0.0</td>\n      <td>0.0</td>\n      <td>0.0</td>\n    </tr>\n    <tr>\n      <th>A105S56ODHGJEK</th>\n      <td>0.0</td>\n      <td>0.0</td>\n      <td>0.0</td>\n      <td>0.0</td>\n      <td>0.0</td>\n      <td>0.0</td>\n      <td>0.0</td>\n      <td>0.0</td>\n      <td>0.0</td>\n      <td>0.0</td>\n      <td>...</td>\n      <td>0.0</td>\n      <td>0.0</td>\n      <td>0.0</td>\n      <td>0.0</td>\n      <td>0.0</td>\n      <td>0.0</td>\n      <td>0.0</td>\n      <td>0.0</td>\n      <td>0.0</td>\n      <td>0.0</td>\n    </tr>\n    <tr>\n      <th>A105TOJ6LTVMBG</th>\n      <td>0.0</td>\n      <td>0.0</td>\n      <td>0.0</td>\n      <td>0.0</td>\n      <td>0.0</td>\n      <td>0.0</td>\n      <td>0.0</td>\n      <td>0.0</td>\n      <td>0.0</td>\n      <td>0.0</td>\n      <td>...</td>\n      <td>0.0</td>\n      <td>0.0</td>\n      <td>0.0</td>\n      <td>0.0</td>\n      <td>0.0</td>\n      <td>0.0</td>\n      <td>0.0</td>\n      <td>0.0</td>\n      <td>0.0</td>\n      <td>0.0</td>\n    </tr>\n    <tr>\n      <th>A10AFVU66A79Y1</th>\n      <td>0.0</td>\n      <td>0.0</td>\n      <td>0.0</td>\n      <td>0.0</td>\n      <td>0.0</td>\n      <td>0.0</td>\n      <td>0.0</td>\n      <td>0.0</td>\n      <td>0.0</td>\n      <td>0.0</td>\n      <td>...</td>\n      <td>0.0</td>\n      <td>0.0</td>\n      <td>0.0</td>\n      <td>0.0</td>\n      <td>0.0</td>\n      <td>0.0</td>\n      <td>0.0</td>\n      <td>0.0</td>\n      <td>0.0</td>\n      <td>0.0</td>\n    </tr>\n  </tbody>\n</table>\n<p>5 rows × 48190 columns</p>\n</div>",
      "text/plain": "productId       0594451647  0594481813  0970407998  0972683275  1400501466  \\\nuserId                                                                       \nA100UD67AHFODS         0.0         0.0         0.0         0.0         0.0   \nA100WO06OQR8BQ         0.0         0.0         0.0         0.0         0.0   \nA105S56ODHGJEK         0.0         0.0         0.0         0.0         0.0   \nA105TOJ6LTVMBG         0.0         0.0         0.0         0.0         0.0   \nA10AFVU66A79Y1         0.0         0.0         0.0         0.0         0.0   \n\nproductId       1400501520  1400501776  1400532620  1400532655  140053271X  \\\nuserId                                                                       \nA100UD67AHFODS         0.0         0.0         0.0         0.0         0.0   \nA100WO06OQR8BQ         0.0         0.0         0.0         0.0         0.0   \nA105S56ODHGJEK         0.0         0.0         0.0         0.0         0.0   \nA105TOJ6LTVMBG         0.0         0.0         0.0         0.0         0.0   \nA10AFVU66A79Y1         0.0         0.0         0.0         0.0         0.0   \n\nproductId       ...  B00L5YZCCG  B00L8I6SFY  B00L8QCVL6  B00LA6T0LS  \\\nuserId          ...                                                   \nA100UD67AHFODS  ...         0.0         0.0         0.0         0.0   \nA100WO06OQR8BQ  ...         0.0         0.0         0.0         0.0   \nA105S56ODHGJEK  ...         0.0         0.0         0.0         0.0   \nA105TOJ6LTVMBG  ...         0.0         0.0         0.0         0.0   \nA10AFVU66A79Y1  ...         0.0         0.0         0.0         0.0   \n\nproductId       B00LBZ1Z7K  B00LED02VY  B00LGN7Y3G  B00LGQ6HL8  B00LI4ZZO8  \\\nuserId                                                                       \nA100UD67AHFODS         0.0         0.0         0.0         0.0         0.0   \nA100WO06OQR8BQ         0.0         0.0         0.0         0.0         0.0   \nA105S56ODHGJEK         0.0         0.0         0.0         0.0         0.0   \nA105TOJ6LTVMBG         0.0         0.0         0.0         0.0         0.0   \nA10AFVU66A79Y1         0.0         0.0         0.0         0.0         0.0   \n\nproductId       B00LKG1MC8  \nuserId                      \nA100UD67AHFODS         0.0  \nA100WO06OQR8BQ         0.0  \nA105S56ODHGJEK         0.0  \nA105TOJ6LTVMBG         0.0  \nA10AFVU66A79Y1         0.0  \n\n[5 rows x 48190 columns]"
     },
     "execution_count": 22,
     "metadata": {},
     "output_type": "execute_result"
    }
   ],
   "source": [
    "rating_matrix.head()"
   ]
  },
  {
   "cell_type": "code",
   "execution_count": 23,
   "metadata": {},
   "outputs": [
    {
     "data": {
      "text/html": "<div>\n<style scoped>\n    .dataframe tbody tr th:only-of-type {\n        vertical-align: middle;\n    }\n\n    .dataframe tbody tr th {\n        vertical-align: top;\n    }\n\n    .dataframe thead th {\n        text-align: right;\n    }\n</style>\n<table border=\"1\" class=\"dataframe\">\n  <thead>\n    <tr style=\"text-align: right;\">\n      <th>userId</th>\n      <th>A100UD67AHFODS</th>\n      <th>A100WO06OQR8BQ</th>\n      <th>A105S56ODHGJEK</th>\n      <th>A105TOJ6LTVMBG</th>\n      <th>A10AFVU66A79Y1</th>\n      <th>A10H24TDLK2VDP</th>\n      <th>A10NMELR4KX0J6</th>\n      <th>A10O7THJ2O20AG</th>\n      <th>A10PEXB6XAQ5XF</th>\n      <th>A10X9ME6R66JDX</th>\n      <th>...</th>\n      <th>AYOTEJ617O60K</th>\n      <th>AYP0YPLSP9ISM</th>\n      <th>AZ515FFZ7I2P7</th>\n      <th>AZ8XSDMIX04VJ</th>\n      <th>AZAC8O310IK4E</th>\n      <th>AZBXKUH4AIW3X</th>\n      <th>AZCE11PSTCH1L</th>\n      <th>AZMY6E8B52L2T</th>\n      <th>AZNUHQSHZHSUE</th>\n      <th>AZOK5STV85FBJ</th>\n    </tr>\n    <tr>\n      <th>productId</th>\n      <th></th>\n      <th></th>\n      <th></th>\n      <th></th>\n      <th></th>\n      <th></th>\n      <th></th>\n      <th></th>\n      <th></th>\n      <th></th>\n      <th></th>\n      <th></th>\n      <th></th>\n      <th></th>\n      <th></th>\n      <th></th>\n      <th></th>\n      <th></th>\n      <th></th>\n      <th></th>\n      <th></th>\n    </tr>\n  </thead>\n  <tbody>\n    <tr>\n      <th>0594451647</th>\n      <td>0.0</td>\n      <td>0.0</td>\n      <td>0.0</td>\n      <td>0.0</td>\n      <td>0.0</td>\n      <td>0.0</td>\n      <td>0.0</td>\n      <td>0.0</td>\n      <td>0.0</td>\n      <td>0.0</td>\n      <td>...</td>\n      <td>0.0</td>\n      <td>0.0</td>\n      <td>0.0</td>\n      <td>0.0</td>\n      <td>0.0</td>\n      <td>0.0</td>\n      <td>0.0</td>\n      <td>0.0</td>\n      <td>0.0</td>\n      <td>0.0</td>\n    </tr>\n    <tr>\n      <th>0594481813</th>\n      <td>0.0</td>\n      <td>0.0</td>\n      <td>0.0</td>\n      <td>0.0</td>\n      <td>0.0</td>\n      <td>0.0</td>\n      <td>0.0</td>\n      <td>0.0</td>\n      <td>0.0</td>\n      <td>0.0</td>\n      <td>...</td>\n      <td>0.0</td>\n      <td>0.0</td>\n      <td>0.0</td>\n      <td>0.0</td>\n      <td>0.0</td>\n      <td>0.0</td>\n      <td>0.0</td>\n      <td>0.0</td>\n      <td>0.0</td>\n      <td>0.0</td>\n    </tr>\n    <tr>\n      <th>0970407998</th>\n      <td>0.0</td>\n      <td>0.0</td>\n      <td>0.0</td>\n      <td>0.0</td>\n      <td>0.0</td>\n      <td>0.0</td>\n      <td>0.0</td>\n      <td>0.0</td>\n      <td>0.0</td>\n      <td>0.0</td>\n      <td>...</td>\n      <td>0.0</td>\n      <td>0.0</td>\n      <td>0.0</td>\n      <td>0.0</td>\n      <td>0.0</td>\n      <td>0.0</td>\n      <td>0.0</td>\n      <td>0.0</td>\n      <td>0.0</td>\n      <td>0.0</td>\n    </tr>\n    <tr>\n      <th>0972683275</th>\n      <td>0.0</td>\n      <td>0.0</td>\n      <td>0.0</td>\n      <td>0.0</td>\n      <td>0.0</td>\n      <td>0.0</td>\n      <td>0.0</td>\n      <td>0.0</td>\n      <td>0.0</td>\n      <td>0.0</td>\n      <td>...</td>\n      <td>0.0</td>\n      <td>0.0</td>\n      <td>0.0</td>\n      <td>0.0</td>\n      <td>0.0</td>\n      <td>0.0</td>\n      <td>0.0</td>\n      <td>0.0</td>\n      <td>0.0</td>\n      <td>0.0</td>\n    </tr>\n    <tr>\n      <th>1400501466</th>\n      <td>0.0</td>\n      <td>0.0</td>\n      <td>0.0</td>\n      <td>0.0</td>\n      <td>0.0</td>\n      <td>0.0</td>\n      <td>0.0</td>\n      <td>0.0</td>\n      <td>0.0</td>\n      <td>0.0</td>\n      <td>...</td>\n      <td>0.0</td>\n      <td>0.0</td>\n      <td>0.0</td>\n      <td>0.0</td>\n      <td>0.0</td>\n      <td>0.0</td>\n      <td>0.0</td>\n      <td>0.0</td>\n      <td>0.0</td>\n      <td>0.0</td>\n    </tr>\n  </tbody>\n</table>\n<p>5 rows × 1540 columns</p>\n</div>",
      "text/plain": "userId      A100UD67AHFODS  A100WO06OQR8BQ  A105S56ODHGJEK  A105TOJ6LTVMBG  \\\nproductId                                                                    \n0594451647             0.0             0.0             0.0             0.0   \n0594481813             0.0             0.0             0.0             0.0   \n0970407998             0.0             0.0             0.0             0.0   \n0972683275             0.0             0.0             0.0             0.0   \n1400501466             0.0             0.0             0.0             0.0   \n\nuserId      A10AFVU66A79Y1  A10H24TDLK2VDP  A10NMELR4KX0J6  A10O7THJ2O20AG  \\\nproductId                                                                    \n0594451647             0.0             0.0             0.0             0.0   \n0594481813             0.0             0.0             0.0             0.0   \n0970407998             0.0             0.0             0.0             0.0   \n0972683275             0.0             0.0             0.0             0.0   \n1400501466             0.0             0.0             0.0             0.0   \n\nuserId      A10PEXB6XAQ5XF  A10X9ME6R66JDX  ...  AYOTEJ617O60K  AYP0YPLSP9ISM  \\\nproductId                                   ...                                 \n0594451647             0.0             0.0  ...            0.0            0.0   \n0594481813             0.0             0.0  ...            0.0            0.0   \n0970407998             0.0             0.0  ...            0.0            0.0   \n0972683275             0.0             0.0  ...            0.0            0.0   \n1400501466             0.0             0.0  ...            0.0            0.0   \n\nuserId      AZ515FFZ7I2P7  AZ8XSDMIX04VJ  AZAC8O310IK4E  AZBXKUH4AIW3X  \\\nproductId                                                                \n0594451647            0.0            0.0            0.0            0.0   \n0594481813            0.0            0.0            0.0            0.0   \n0970407998            0.0            0.0            0.0            0.0   \n0972683275            0.0            0.0            0.0            0.0   \n1400501466            0.0            0.0            0.0            0.0   \n\nuserId      AZCE11PSTCH1L  AZMY6E8B52L2T  AZNUHQSHZHSUE  AZOK5STV85FBJ  \nproductId                                                               \n0594451647            0.0            0.0            0.0            0.0  \n0594481813            0.0            0.0            0.0            0.0  \n0970407998            0.0            0.0            0.0            0.0  \n0972683275            0.0            0.0            0.0            0.0  \n1400501466            0.0            0.0            0.0            0.0  \n\n[5 rows x 1540 columns]"
     },
     "execution_count": 23,
     "metadata": {},
     "output_type": "execute_result"
    }
   ],
   "source": [
    "rating_matrix.transpose().head()"
   ]
  },
  {
   "cell_type": "markdown",
   "execution_count": null,
   "metadata": {},
   "outputs": [],
   "source": [
    "<h3>3. Split the data randomly into train and test dataset. ( For\n",
    "example, split it in 70/30 ratio) </h3>"
   ]
  },
  {
   "cell_type": "code",
   "execution_count": 24,
   "metadata": {},
   "outputs": [],
   "source": [
    "train_data, test_data = train_test_split(df_ready, test_size = 0.3, random_state=0)"
   ]
  },
  {
   "cell_type": "code",
   "execution_count": 28,
   "metadata": {},
   "outputs": [
    {
     "data": {
      "text/html": "<div>\n<style scoped>\n    .dataframe tbody tr th:only-of-type {\n        vertical-align: middle;\n    }\n\n    .dataframe tbody tr th {\n        vertical-align: top;\n    }\n\n    .dataframe thead th {\n        text-align: right;\n    }\n</style>\n<table border=\"1\" class=\"dataframe\">\n  <thead>\n    <tr style=\"text-align: right;\">\n      <th></th>\n      <th>userId</th>\n      <th>productId</th>\n      <th>Rating</th>\n    </tr>\n  </thead>\n  <tbody>\n    <tr>\n      <th>6595853</th>\n      <td>A2BYV7S1QP2YIG</td>\n      <td>B009EAHVTA</td>\n      <td>5.0</td>\n    </tr>\n    <tr>\n      <th>4738241</th>\n      <td>AB094YABX21WQ</td>\n      <td>B0056XCEAA</td>\n      <td>1.0</td>\n    </tr>\n    <tr>\n      <th>4175596</th>\n      <td>A3D0UM4ZD2CMAW</td>\n      <td>B004I763AW</td>\n      <td>5.0</td>\n    </tr>\n    <tr>\n      <th>3753016</th>\n      <td>AATWFX0ZZSE6C</td>\n      <td>B0040NPHMO</td>\n      <td>3.0</td>\n    </tr>\n    <tr>\n      <th>1734767</th>\n      <td>A1NNMOD9H36Q8E</td>\n      <td>B0015VW3BM</td>\n      <td>4.0</td>\n    </tr>\n  </tbody>\n</table>\n</div>",
      "text/plain": "                 userId   productId  Rating\n6595853  A2BYV7S1QP2YIG  B009EAHVTA     5.0\n4738241   AB094YABX21WQ  B0056XCEAA     1.0\n4175596  A3D0UM4ZD2CMAW  B004I763AW     5.0\n3753016   AATWFX0ZZSE6C  B0040NPHMO     3.0\n1734767  A1NNMOD9H36Q8E  B0015VW3BM     4.0"
     },
     "execution_count": 28,
     "metadata": {},
     "output_type": "execute_result"
    }
   ],
   "source": [
    "train_data.head()"
   ]
  },
  {
   "cell_type": "code",
   "execution_count": 29,
   "metadata": {},
   "outputs": [
    {
     "name": "stdout",
     "output_type": "stream",
     "text": "(88109, 3)\n(37762, 3)\n"
    }
   ],
   "source": [
    "print(train_data.shape)\n",
    "print(test_data.shape)"
   ]
  },
  {
   "cell_type": "markdown",
   "execution_count": 30,
   "metadata": {},
   "outputs": [],
   "source": [
    "<h3>4. Build Popularity Recommender model.</h3>"
   ]
  },
  {
   "cell_type": "code",
   "execution_count": 31,
   "metadata": {},
   "outputs": [
    {
     "data": {
      "text/html": "<div>\n<style scoped>\n    .dataframe tbody tr th:only-of-type {\n        vertical-align: middle;\n    }\n\n    .dataframe tbody tr th {\n        vertical-align: top;\n    }\n\n    .dataframe thead th {\n        text-align: right;\n    }\n</style>\n<table border=\"1\" class=\"dataframe\">\n  <thead>\n    <tr style=\"text-align: right;\">\n      <th></th>\n      <th>userId</th>\n      <th>productId</th>\n      <th>Rating</th>\n    </tr>\n  </thead>\n  <tbody>\n    <tr>\n      <th>6595853</th>\n      <td>A2BYV7S1QP2YIG</td>\n      <td>B009EAHVTA</td>\n      <td>5.0</td>\n    </tr>\n    <tr>\n      <th>4738241</th>\n      <td>AB094YABX21WQ</td>\n      <td>B0056XCEAA</td>\n      <td>1.0</td>\n    </tr>\n    <tr>\n      <th>4175596</th>\n      <td>A3D0UM4ZD2CMAW</td>\n      <td>B004I763AW</td>\n      <td>5.0</td>\n    </tr>\n    <tr>\n      <th>3753016</th>\n      <td>AATWFX0ZZSE6C</td>\n      <td>B0040NPHMO</td>\n      <td>3.0</td>\n    </tr>\n    <tr>\n      <th>1734767</th>\n      <td>A1NNMOD9H36Q8E</td>\n      <td>B0015VW3BM</td>\n      <td>4.0</td>\n    </tr>\n  </tbody>\n</table>\n</div>",
      "text/plain": "                 userId   productId  Rating\n6595853  A2BYV7S1QP2YIG  B009EAHVTA     5.0\n4738241   AB094YABX21WQ  B0056XCEAA     1.0\n4175596  A3D0UM4ZD2CMAW  B004I763AW     5.0\n3753016   AATWFX0ZZSE6C  B0040NPHMO     3.0\n1734767  A1NNMOD9H36Q8E  B0015VW3BM     4.0"
     },
     "execution_count": 31,
     "metadata": {},
     "output_type": "execute_result"
    }
   ],
   "source": [
    "train_data.head()"
   ]
  },
  {
   "cell_type": "code",
   "execution_count": 32,
   "metadata": {},
   "outputs": [],
   "source": [
    "train_data_grouped = train_data.groupby('productId').agg({'userId':'count'}).reset_index()\n",
    "train_data_grouped.rename(columns={'userId':'score'},inplace=True)"
   ]
  },
  {
   "cell_type": "code",
   "execution_count": 33,
   "metadata": {},
   "outputs": [
    {
     "data": {
      "text/html": "<div>\n<style scoped>\n    .dataframe tbody tr th:only-of-type {\n        vertical-align: middle;\n    }\n\n    .dataframe tbody tr th {\n        vertical-align: top;\n    }\n\n    .dataframe thead th {\n        text-align: right;\n    }\n</style>\n<table border=\"1\" class=\"dataframe\">\n  <thead>\n    <tr style=\"text-align: right;\">\n      <th></th>\n      <th>productId</th>\n      <th>score</th>\n    </tr>\n  </thead>\n  <tbody>\n    <tr>\n      <th>38221</th>\n      <td>B00LA6T0LS</td>\n      <td>2</td>\n    </tr>\n    <tr>\n      <th>38222</th>\n      <td>B00LBZ1Z7K</td>\n      <td>1</td>\n    </tr>\n    <tr>\n      <th>38223</th>\n      <td>B00LED02VY</td>\n      <td>1</td>\n    </tr>\n    <tr>\n      <th>38224</th>\n      <td>B00LGQ6HL8</td>\n      <td>3</td>\n    </tr>\n    <tr>\n      <th>38225</th>\n      <td>B00LI4ZZO8</td>\n      <td>1</td>\n    </tr>\n  </tbody>\n</table>\n</div>",
      "text/plain": "        productId  score\n38221  B00LA6T0LS      2\n38222  B00LBZ1Z7K      1\n38223  B00LED02VY      1\n38224  B00LGQ6HL8      3\n38225  B00LI4ZZO8      1"
     },
     "execution_count": 33,
     "metadata": {},
     "output_type": "execute_result"
    }
   ],
   "source": [
    "train_data_grouped.tail()"
   ]
  },
  {
   "cell_type": "code",
   "execution_count": 34,
   "metadata": {},
   "outputs": [],
   "source": [
    "train_data_sort = train_data_grouped.sort_values(['score', 'productId'], ascending = [0,1])"
   ]
  },
  {
   "cell_type": "code",
   "execution_count": 35,
   "metadata": {},
   "outputs": [],
   "source": [
    "train_data_sort['Rank']= train_data_sort['score'].rank(ascending=0, method='first') "
   ]
  },
  {
   "cell_type": "code",
   "execution_count": 36,
   "metadata": {},
   "outputs": [
    {
     "data": {
      "text/html": "<div>\n<style scoped>\n    .dataframe tbody tr th:only-of-type {\n        vertical-align: middle;\n    }\n\n    .dataframe tbody tr th {\n        vertical-align: top;\n    }\n\n    .dataframe thead th {\n        text-align: right;\n    }\n</style>\n<table border=\"1\" class=\"dataframe\">\n  <thead>\n    <tr style=\"text-align: right;\">\n      <th></th>\n      <th>productId</th>\n      <th>score</th>\n      <th>Rank</th>\n    </tr>\n  </thead>\n  <tbody>\n    <tr>\n      <th>30847</th>\n      <td>B0088CJT4U</td>\n      <td>133</td>\n      <td>1.0</td>\n    </tr>\n    <tr>\n      <th>30287</th>\n      <td>B007WTAJTO</td>\n      <td>124</td>\n      <td>2.0</td>\n    </tr>\n    <tr>\n      <th>19647</th>\n      <td>B003ES5ZUU</td>\n      <td>122</td>\n      <td>3.0</td>\n    </tr>\n    <tr>\n      <th>8752</th>\n      <td>B000N99BBC</td>\n      <td>114</td>\n      <td>4.0</td>\n    </tr>\n    <tr>\n      <th>30555</th>\n      <td>B00829THK0</td>\n      <td>97</td>\n      <td>5.0</td>\n    </tr>\n  </tbody>\n</table>\n</div>",
      "text/plain": "        productId  score  Rank\n30847  B0088CJT4U    133   1.0\n30287  B007WTAJTO    124   2.0\n19647  B003ES5ZUU    122   3.0\n8752   B000N99BBC    114   4.0\n30555  B00829THK0     97   5.0"
     },
     "execution_count": 36,
     "metadata": {},
     "output_type": "execute_result"
    }
   ],
   "source": [
    "popularity_recommendations = train_data_sort.head()\n",
    "popularity_recommendations"
   ]
  },
  {
   "cell_type": "code",
   "execution_count": 47,
   "metadata": {},
   "outputs": [],
   "source": [
    "# popularity_recommendations\n",
    "def popularity_recommender(user_id):\n",
    "    user_recommendations = popularity_recommendations\n",
    "    user_recommendations['userId'] = user_id\n",
    "\n",
    "    col = user_recommendations.columns.tolist()\n",
    "    col = col[-1:] + col[:-1]\n",
    "    user_recommendations = user_recommendations[col]\n",
    "    return user_recommendations"
   ]
  },
  {
   "cell_type": "code",
   "execution_count": 48,
   "metadata": {},
   "outputs": [
    {
     "name": "stdout",
     "output_type": "stream",
     "text": "\nMovies Recommended for the user : 1 are \n       userId   productId  score  Rank\n30847       1  B0088CJT4U    133   1.0\n30287       1  B007WTAJTO    124   2.0\n19647       1  B003ES5ZUU    122   3.0\n8752        1  B000N99BBC    114   4.0\n30555       1  B00829THK0     97   5.0\n\nMovies Recommended for the user : 15 are \n       userId   productId  score  Rank\n30847      15  B0088CJT4U    133   1.0\n30287      15  B007WTAJTO    124   2.0\n19647      15  B003ES5ZUU    122   3.0\n8752       15  B000N99BBC    114   4.0\n30555      15  B00829THK0     97   5.0\n\nMovies Recommended for the user : 159 are \n       userId   productId  score  Rank\n30847     159  B0088CJT4U    133   1.0\n30287     159  B007WTAJTO    124   2.0\n19647     159  B003ES5ZUU    122   3.0\n8752      159  B000N99BBC    114   4.0\n30555     159  B00829THK0     97   5.0\n"
    }
   ],
   "source": [
    "user = [1, 15, 159]\n",
    "for i in user :\n",
    "    recomm = popularity_recommender(i)\n",
    "    print('\\nMovies Recommended for the user : {} are \\n{}'.format(i,recomm))"
   ]
  },
  {
   "cell_type": "markdown",
   "execution_count": null,
   "metadata": {},
   "outputs": [],
   "source": [
    "The recommendations from Popularity based model for each user is the same five products. This is expected as the model does not consider personal preferences/details of the users."
   ]
  },
  {
   "cell_type": "markdown",
   "metadata": {},
   "outputs": [],
   "source": [
    "<h3>5. Build Collaborative Filtering model. </h3>"
   ]
  },
  {
   "cell_type": "code",
   "execution_count": 49,
   "metadata": {},
   "outputs": [],
   "source": [
    "# Collabarative Filtering Model\n",
    "# Model-based Collaborative Filtering: Singular Value Decomposition"
   ]
  },
  {
   "cell_type": "code",
   "execution_count": 50,
   "metadata": {},
   "outputs": [
    {
     "name": "stdout",
     "output_type": "stream",
     "text": "shape for the Matrix :  (1540, 48190)\n"
    },
    {
     "data": {
      "text/html": "<div>\n<style scoped>\n    .dataframe tbody tr th:only-of-type {\n        vertical-align: middle;\n    }\n\n    .dataframe tbody tr th {\n        vertical-align: top;\n    }\n\n    .dataframe thead th {\n        text-align: right;\n    }\n</style>\n<table border=\"1\" class=\"dataframe\">\n  <thead>\n    <tr style=\"text-align: right;\">\n      <th>productId</th>\n      <th>0594451647</th>\n      <th>0594481813</th>\n      <th>0970407998</th>\n      <th>0972683275</th>\n      <th>1400501466</th>\n      <th>1400501520</th>\n      <th>1400501776</th>\n      <th>1400532620</th>\n      <th>1400532655</th>\n      <th>140053271X</th>\n      <th>...</th>\n      <th>B00L5YZCCG</th>\n      <th>B00L8I6SFY</th>\n      <th>B00L8QCVL6</th>\n      <th>B00LA6T0LS</th>\n      <th>B00LBZ1Z7K</th>\n      <th>B00LED02VY</th>\n      <th>B00LGN7Y3G</th>\n      <th>B00LGQ6HL8</th>\n      <th>B00LI4ZZO8</th>\n      <th>B00LKG1MC8</th>\n    </tr>\n    <tr>\n      <th>user_index</th>\n      <th></th>\n      <th></th>\n      <th></th>\n      <th></th>\n      <th></th>\n      <th></th>\n      <th></th>\n      <th></th>\n      <th></th>\n      <th></th>\n      <th></th>\n      <th></th>\n      <th></th>\n      <th></th>\n      <th></th>\n      <th></th>\n      <th></th>\n      <th></th>\n      <th></th>\n      <th></th>\n      <th></th>\n    </tr>\n  </thead>\n  <tbody>\n    <tr>\n      <th>0</th>\n      <td>0.0</td>\n      <td>0.0</td>\n      <td>0.0</td>\n      <td>0.0</td>\n      <td>0.0</td>\n      <td>0.0</td>\n      <td>0.0</td>\n      <td>0.0</td>\n      <td>0.0</td>\n      <td>0.0</td>\n      <td>...</td>\n      <td>0.0</td>\n      <td>0.0</td>\n      <td>0.0</td>\n      <td>0.0</td>\n      <td>0.0</td>\n      <td>0.0</td>\n      <td>0.0</td>\n      <td>0.0</td>\n      <td>0.0</td>\n      <td>0.0</td>\n    </tr>\n    <tr>\n      <th>1</th>\n      <td>0.0</td>\n      <td>0.0</td>\n      <td>0.0</td>\n      <td>0.0</td>\n      <td>0.0</td>\n      <td>0.0</td>\n      <td>0.0</td>\n      <td>0.0</td>\n      <td>0.0</td>\n      <td>0.0</td>\n      <td>...</td>\n      <td>0.0</td>\n      <td>0.0</td>\n      <td>0.0</td>\n      <td>0.0</td>\n      <td>0.0</td>\n      <td>0.0</td>\n      <td>0.0</td>\n      <td>0.0</td>\n      <td>0.0</td>\n      <td>0.0</td>\n    </tr>\n    <tr>\n      <th>2</th>\n      <td>0.0</td>\n      <td>0.0</td>\n      <td>0.0</td>\n      <td>0.0</td>\n      <td>0.0</td>\n      <td>0.0</td>\n      <td>0.0</td>\n      <td>0.0</td>\n      <td>0.0</td>\n      <td>0.0</td>\n      <td>...</td>\n      <td>0.0</td>\n      <td>0.0</td>\n      <td>0.0</td>\n      <td>0.0</td>\n      <td>0.0</td>\n      <td>0.0</td>\n      <td>0.0</td>\n      <td>0.0</td>\n      <td>0.0</td>\n      <td>0.0</td>\n    </tr>\n    <tr>\n      <th>3</th>\n      <td>0.0</td>\n      <td>0.0</td>\n      <td>0.0</td>\n      <td>0.0</td>\n      <td>0.0</td>\n      <td>0.0</td>\n      <td>0.0</td>\n      <td>0.0</td>\n      <td>0.0</td>\n      <td>0.0</td>\n      <td>...</td>\n      <td>0.0</td>\n      <td>0.0</td>\n      <td>0.0</td>\n      <td>0.0</td>\n      <td>0.0</td>\n      <td>0.0</td>\n      <td>0.0</td>\n      <td>0.0</td>\n      <td>0.0</td>\n      <td>0.0</td>\n    </tr>\n    <tr>\n      <th>4</th>\n      <td>0.0</td>\n      <td>0.0</td>\n      <td>0.0</td>\n      <td>0.0</td>\n      <td>0.0</td>\n      <td>0.0</td>\n      <td>0.0</td>\n      <td>0.0</td>\n      <td>0.0</td>\n      <td>0.0</td>\n      <td>...</td>\n      <td>0.0</td>\n      <td>0.0</td>\n      <td>0.0</td>\n      <td>0.0</td>\n      <td>0.0</td>\n      <td>0.0</td>\n      <td>0.0</td>\n      <td>0.0</td>\n      <td>0.0</td>\n      <td>0.0</td>\n    </tr>\n  </tbody>\n</table>\n<p>5 rows × 48190 columns</p>\n</div>",
      "text/plain": "productId   0594451647  0594481813  0970407998  0972683275  1400501466  \\\nuser_index                                                               \n0                  0.0         0.0         0.0         0.0         0.0   \n1                  0.0         0.0         0.0         0.0         0.0   \n2                  0.0         0.0         0.0         0.0         0.0   \n3                  0.0         0.0         0.0         0.0         0.0   \n4                  0.0         0.0         0.0         0.0         0.0   \n\nproductId   1400501520  1400501776  1400532620  1400532655  140053271X  ...  \\\nuser_index                                                              ...   \n0                  0.0         0.0         0.0         0.0         0.0  ...   \n1                  0.0         0.0         0.0         0.0         0.0  ...   \n2                  0.0         0.0         0.0         0.0         0.0  ...   \n3                  0.0         0.0         0.0         0.0         0.0  ...   \n4                  0.0         0.0         0.0         0.0         0.0  ...   \n\nproductId   B00L5YZCCG  B00L8I6SFY  B00L8QCVL6  B00LA6T0LS  B00LBZ1Z7K  \\\nuser_index                                                               \n0                  0.0         0.0         0.0         0.0         0.0   \n1                  0.0         0.0         0.0         0.0         0.0   \n2                  0.0         0.0         0.0         0.0         0.0   \n3                  0.0         0.0         0.0         0.0         0.0   \n4                  0.0         0.0         0.0         0.0         0.0   \n\nproductId   B00LED02VY  B00LGN7Y3G  B00LGQ6HL8  B00LI4ZZO8  B00LKG1MC8  \nuser_index                                                              \n0                  0.0         0.0         0.0         0.0         0.0  \n1                  0.0         0.0         0.0         0.0         0.0  \n2                  0.0         0.0         0.0         0.0         0.0  \n3                  0.0         0.0         0.0         0.0         0.0  \n4                  0.0         0.0         0.0         0.0         0.0  \n\n[5 rows x 48190 columns]"
     },
     "execution_count": 50,
     "metadata": {},
     "output_type": "execute_result"
    }
   ],
   "source": [
    "# User-based Collaborative Filtering\n",
    "# Matrix with row per 'user' and column per 'product' \n",
    "print('shape for the Matrix : ',rating_matrix.shape)\n",
    "rating_matrix.head()"
   ]
  },
  {
   "cell_type": "code",
   "execution_count": 51,
   "metadata": {},
   "outputs": [
    {
     "name": "stdout",
     "output_type": "stream",
     "text": "shape for the Matrix :  (1540, 48191)\n"
    },
    {
     "data": {
      "text/html": "<div>\n<style scoped>\n    .dataframe tbody tr th:only-of-type {\n        vertical-align: middle;\n    }\n\n    .dataframe tbody tr th {\n        vertical-align: top;\n    }\n\n    .dataframe thead th {\n        text-align: right;\n    }\n</style>\n<table border=\"1\" class=\"dataframe\">\n  <thead>\n    <tr style=\"text-align: right;\">\n      <th>productId</th>\n      <th>0594451647</th>\n      <th>0594481813</th>\n      <th>0970407998</th>\n      <th>0972683275</th>\n      <th>1400501466</th>\n      <th>1400501520</th>\n      <th>1400501776</th>\n      <th>1400532620</th>\n      <th>1400532655</th>\n      <th>140053271X</th>\n      <th>...</th>\n      <th>B00L8I6SFY</th>\n      <th>B00L8QCVL6</th>\n      <th>B00LA6T0LS</th>\n      <th>B00LBZ1Z7K</th>\n      <th>B00LED02VY</th>\n      <th>B00LGN7Y3G</th>\n      <th>B00LGQ6HL8</th>\n      <th>B00LI4ZZO8</th>\n      <th>B00LKG1MC8</th>\n      <th>user_index</th>\n    </tr>\n    <tr>\n      <th>user_index</th>\n      <th></th>\n      <th></th>\n      <th></th>\n      <th></th>\n      <th></th>\n      <th></th>\n      <th></th>\n      <th></th>\n      <th></th>\n      <th></th>\n      <th></th>\n      <th></th>\n      <th></th>\n      <th></th>\n      <th></th>\n      <th></th>\n      <th></th>\n      <th></th>\n      <th></th>\n      <th></th>\n      <th></th>\n    </tr>\n  </thead>\n  <tbody>\n    <tr>\n      <th>0</th>\n      <td>0.0</td>\n      <td>0.0</td>\n      <td>0.0</td>\n      <td>0.0</td>\n      <td>0.0</td>\n      <td>0.0</td>\n      <td>0.0</td>\n      <td>0.0</td>\n      <td>0.0</td>\n      <td>0.0</td>\n      <td>...</td>\n      <td>0.0</td>\n      <td>0.0</td>\n      <td>0.0</td>\n      <td>0.0</td>\n      <td>0.0</td>\n      <td>0.0</td>\n      <td>0.0</td>\n      <td>0.0</td>\n      <td>0.0</td>\n      <td>0</td>\n    </tr>\n    <tr>\n      <th>1</th>\n      <td>0.0</td>\n      <td>0.0</td>\n      <td>0.0</td>\n      <td>0.0</td>\n      <td>0.0</td>\n      <td>0.0</td>\n      <td>0.0</td>\n      <td>0.0</td>\n      <td>0.0</td>\n      <td>0.0</td>\n      <td>...</td>\n      <td>0.0</td>\n      <td>0.0</td>\n      <td>0.0</td>\n      <td>0.0</td>\n      <td>0.0</td>\n      <td>0.0</td>\n      <td>0.0</td>\n      <td>0.0</td>\n      <td>0.0</td>\n      <td>1</td>\n    </tr>\n    <tr>\n      <th>2</th>\n      <td>0.0</td>\n      <td>0.0</td>\n      <td>0.0</td>\n      <td>0.0</td>\n      <td>0.0</td>\n      <td>0.0</td>\n      <td>0.0</td>\n      <td>0.0</td>\n      <td>0.0</td>\n      <td>0.0</td>\n      <td>...</td>\n      <td>0.0</td>\n      <td>0.0</td>\n      <td>0.0</td>\n      <td>0.0</td>\n      <td>0.0</td>\n      <td>0.0</td>\n      <td>0.0</td>\n      <td>0.0</td>\n      <td>0.0</td>\n      <td>2</td>\n    </tr>\n    <tr>\n      <th>3</th>\n      <td>0.0</td>\n      <td>0.0</td>\n      <td>0.0</td>\n      <td>0.0</td>\n      <td>0.0</td>\n      <td>0.0</td>\n      <td>0.0</td>\n      <td>0.0</td>\n      <td>0.0</td>\n      <td>0.0</td>\n      <td>...</td>\n      <td>0.0</td>\n      <td>0.0</td>\n      <td>0.0</td>\n      <td>0.0</td>\n      <td>0.0</td>\n      <td>0.0</td>\n      <td>0.0</td>\n      <td>0.0</td>\n      <td>0.0</td>\n      <td>3</td>\n    </tr>\n    <tr>\n      <th>4</th>\n      <td>0.0</td>\n      <td>0.0</td>\n      <td>0.0</td>\n      <td>0.0</td>\n      <td>0.0</td>\n      <td>0.0</td>\n      <td>0.0</td>\n      <td>0.0</td>\n      <td>0.0</td>\n      <td>0.0</td>\n      <td>...</td>\n      <td>0.0</td>\n      <td>0.0</td>\n      <td>0.0</td>\n      <td>0.0</td>\n      <td>0.0</td>\n      <td>0.0</td>\n      <td>0.0</td>\n      <td>0.0</td>\n      <td>0.0</td>\n      <td>4</td>\n    </tr>\n  </tbody>\n</table>\n<p>5 rows × 48191 columns</p>\n</div>",
      "text/plain": "productId   0594451647  0594481813  0970407998  0972683275  1400501466  \\\nuser_index                                                               \n0                  0.0         0.0         0.0         0.0         0.0   \n1                  0.0         0.0         0.0         0.0         0.0   \n2                  0.0         0.0         0.0         0.0         0.0   \n3                  0.0         0.0         0.0         0.0         0.0   \n4                  0.0         0.0         0.0         0.0         0.0   \n\nproductId   1400501520  1400501776  1400532620  1400532655  140053271X  ...  \\\nuser_index                                                              ...   \n0                  0.0         0.0         0.0         0.0         0.0  ...   \n1                  0.0         0.0         0.0         0.0         0.0  ...   \n2                  0.0         0.0         0.0         0.0         0.0  ...   \n3                  0.0         0.0         0.0         0.0         0.0  ...   \n4                  0.0         0.0         0.0         0.0         0.0  ...   \n\nproductId   B00L8I6SFY  B00L8QCVL6  B00LA6T0LS  B00LBZ1Z7K  B00LED02VY  \\\nuser_index                                                               \n0                  0.0         0.0         0.0         0.0         0.0   \n1                  0.0         0.0         0.0         0.0         0.0   \n2                  0.0         0.0         0.0         0.0         0.0   \n3                  0.0         0.0         0.0         0.0         0.0   \n4                  0.0         0.0         0.0         0.0         0.0   \n\nproductId   B00LGN7Y3G  B00LGQ6HL8  B00LI4ZZO8  B00LKG1MC8  user_index  \nuser_index                                                              \n0                  0.0         0.0         0.0         0.0           0  \n1                  0.0         0.0         0.0         0.0           1  \n2                  0.0         0.0         0.0         0.0           2  \n3                  0.0         0.0         0.0         0.0           3  \n4                  0.0         0.0         0.0         0.0           4  \n\n[5 rows x 48191 columns]"
     },
     "execution_count": 51,
     "metadata": {},
     "output_type": "execute_result"
    }
   ],
   "source": [
    "# add new column user_index to the DF\n",
    "rating_matrix['user_index']=np.arange(0,rating_matrix.shape[0],1)\n",
    "print('shape for the Matrix : ',rating_matrix.shape)\n",
    "rating_matrix.head()"
   ]
  },
  {
   "cell_type": "code",
   "execution_count": 52,
   "metadata": {},
   "outputs": [],
   "source": [
    "rating_matrix.set_index(['user_index'],inplace=True)"
   ]
  },
  {
   "cell_type": "code",
   "execution_count": 53,
   "metadata": {},
   "outputs": [],
   "source": [
    "# SVD Method"
   ]
  },
  {
   "cell_type": "code",
   "execution_count": 54,
   "metadata": {},
   "outputs": [],
   "source": [
    "from scipy.sparse.linalg import svds\n",
    "# Singular Value Decomposition\n",
    "U, sigma, Vt = svds(rating_matrix, k = 10)\n",
    "# Construct diagonal array in SVD\n",
    "sigma = np.diag(sigma)"
   ]
  },
  {
   "cell_type": "code",
   "execution_count": 55,
   "metadata": {},
   "outputs": [
    {
     "data": {
      "text/html": "<div>\n<style scoped>\n    .dataframe tbody tr th:only-of-type {\n        vertical-align: middle;\n    }\n\n    .dataframe tbody tr th {\n        vertical-align: top;\n    }\n\n    .dataframe thead th {\n        text-align: right;\n    }\n</style>\n<table border=\"1\" class=\"dataframe\">\n  <thead>\n    <tr style=\"text-align: right;\">\n      <th>productId</th>\n      <th>0594451647</th>\n      <th>0594481813</th>\n      <th>0970407998</th>\n      <th>0972683275</th>\n      <th>1400501466</th>\n      <th>1400501520</th>\n      <th>1400501776</th>\n      <th>1400532620</th>\n      <th>1400532655</th>\n      <th>140053271X</th>\n      <th>...</th>\n      <th>B00L5YZCCG</th>\n      <th>B00L8I6SFY</th>\n      <th>B00L8QCVL6</th>\n      <th>B00LA6T0LS</th>\n      <th>B00LBZ1Z7K</th>\n      <th>B00LED02VY</th>\n      <th>B00LGN7Y3G</th>\n      <th>B00LGQ6HL8</th>\n      <th>B00LI4ZZO8</th>\n      <th>B00LKG1MC8</th>\n    </tr>\n  </thead>\n  <tbody>\n    <tr>\n      <th>0</th>\n      <td>0.002661</td>\n      <td>0.003576</td>\n      <td>0.004050</td>\n      <td>0.006906</td>\n      <td>0.003967</td>\n      <td>0.003073</td>\n      <td>0.005782</td>\n      <td>0.000568</td>\n      <td>0.014386</td>\n      <td>0.002708</td>\n      <td>...</td>\n      <td>6.108890e-04</td>\n      <td>0.044224</td>\n      <td>0.002919</td>\n      <td>0.060347</td>\n      <td>-0.002137</td>\n      <td>0.006751</td>\n      <td>0.001525</td>\n      <td>0.130951</td>\n      <td>0.059243</td>\n      <td>0.015014</td>\n    </tr>\n    <tr>\n      <th>1</th>\n      <td>0.002262</td>\n      <td>0.002505</td>\n      <td>0.005136</td>\n      <td>0.016517</td>\n      <td>0.007120</td>\n      <td>0.001438</td>\n      <td>0.013258</td>\n      <td>0.000335</td>\n      <td>-0.003781</td>\n      <td>0.001190</td>\n      <td>...</td>\n      <td>2.024793e-04</td>\n      <td>0.029213</td>\n      <td>0.000010</td>\n      <td>0.000244</td>\n      <td>-0.003111</td>\n      <td>-0.000621</td>\n      <td>0.004409</td>\n      <td>-0.039241</td>\n      <td>-0.006889</td>\n      <td>0.003696</td>\n    </tr>\n    <tr>\n      <th>2</th>\n      <td>-0.001600</td>\n      <td>-0.002502</td>\n      <td>0.002186</td>\n      <td>0.016742</td>\n      <td>0.006716</td>\n      <td>-0.002113</td>\n      <td>0.005805</td>\n      <td>0.003497</td>\n      <td>-0.005009</td>\n      <td>-0.001588</td>\n      <td>...</td>\n      <td>-3.240446e-04</td>\n      <td>0.009180</td>\n      <td>-0.002459</td>\n      <td>-0.016922</td>\n      <td>0.019936</td>\n      <td>-0.002483</td>\n      <td>-0.000155</td>\n      <td>-0.002889</td>\n      <td>-0.011522</td>\n      <td>-0.004525</td>\n    </tr>\n    <tr>\n      <th>3</th>\n      <td>0.002732</td>\n      <td>0.003867</td>\n      <td>0.001799</td>\n      <td>0.009395</td>\n      <td>0.004075</td>\n      <td>0.002778</td>\n      <td>0.003507</td>\n      <td>0.000095</td>\n      <td>0.007983</td>\n      <td>0.002381</td>\n      <td>...</td>\n      <td>6.031462e-04</td>\n      <td>-0.003369</td>\n      <td>0.003433</td>\n      <td>-0.003428</td>\n      <td>-0.000750</td>\n      <td>0.000119</td>\n      <td>0.002612</td>\n      <td>-0.015107</td>\n      <td>-0.006740</td>\n      <td>0.003276</td>\n    </tr>\n    <tr>\n      <th>4</th>\n      <td>0.000704</td>\n      <td>0.000085</td>\n      <td>0.002051</td>\n      <td>0.009664</td>\n      <td>0.004438</td>\n      <td>0.000335</td>\n      <td>0.005992</td>\n      <td>0.001056</td>\n      <td>-0.000369</td>\n      <td>0.000373</td>\n      <td>...</td>\n      <td>3.745108e-08</td>\n      <td>-0.001140</td>\n      <td>-0.000323</td>\n      <td>-0.025215</td>\n      <td>0.004700</td>\n      <td>-0.002170</td>\n      <td>0.001263</td>\n      <td>-0.048555</td>\n      <td>-0.016301</td>\n      <td>-0.003377</td>\n    </tr>\n  </tbody>\n</table>\n<p>5 rows × 48190 columns</p>\n</div>",
      "text/plain": "productId  0594451647  0594481813  0970407998  0972683275  1400501466  \\\n0            0.002661    0.003576    0.004050    0.006906    0.003967   \n1            0.002262    0.002505    0.005136    0.016517    0.007120   \n2           -0.001600   -0.002502    0.002186    0.016742    0.006716   \n3            0.002732    0.003867    0.001799    0.009395    0.004075   \n4            0.000704    0.000085    0.002051    0.009664    0.004438   \n\nproductId  1400501520  1400501776  1400532620  1400532655  140053271X  ...  \\\n0            0.003073    0.005782    0.000568    0.014386    0.002708  ...   \n1            0.001438    0.013258    0.000335   -0.003781    0.001190  ...   \n2           -0.002113    0.005805    0.003497   -0.005009   -0.001588  ...   \n3            0.002778    0.003507    0.000095    0.007983    0.002381  ...   \n4            0.000335    0.005992    0.001056   -0.000369    0.000373  ...   \n\nproductId    B00L5YZCCG  B00L8I6SFY  B00L8QCVL6  B00LA6T0LS  B00LBZ1Z7K  \\\n0          6.108890e-04    0.044224    0.002919    0.060347   -0.002137   \n1          2.024793e-04    0.029213    0.000010    0.000244   -0.003111   \n2         -3.240446e-04    0.009180   -0.002459   -0.016922    0.019936   \n3          6.031462e-04   -0.003369    0.003433   -0.003428   -0.000750   \n4          3.745108e-08   -0.001140   -0.000323   -0.025215    0.004700   \n\nproductId  B00LED02VY  B00LGN7Y3G  B00LGQ6HL8  B00LI4ZZO8  B00LKG1MC8  \n0            0.006751    0.001525    0.130951    0.059243    0.015014  \n1           -0.000621    0.004409   -0.039241   -0.006889    0.003696  \n2           -0.002483   -0.000155   -0.002889   -0.011522   -0.004525  \n3            0.000119    0.002612   -0.015107   -0.006740    0.003276  \n4           -0.002170    0.001263   -0.048555   -0.016301   -0.003377  \n\n[5 rows x 48190 columns]"
     },
     "execution_count": 55,
     "metadata": {},
     "output_type": "execute_result"
    }
   ],
   "source": [
    "all_user_predicted_ratings = np.dot(np.dot(U, sigma), Vt) \n",
    "\n",
    "# Predicted ratings\n",
    "preds_df = pd.DataFrame(all_user_predicted_ratings, columns = rating_matrix.columns)\n",
    "preds_df.head()"
   ]
  },
  {
   "cell_type": "code",
   "execution_count": 56,
   "metadata": {},
   "outputs": [
    {
     "data": {
      "text/plain": "(1540, 48190)"
     },
     "execution_count": 56,
     "metadata": {},
     "output_type": "execute_result"
    }
   ],
   "source": [
    "preds_df.shape"
   ]
  },
  {
   "cell_type": "code",
   "execution_count": 58,
   "metadata": {},
   "outputs": [],
   "source": [
    "def recommend_items(userID, pivot_df, preds_df, num_recommendations):\n",
    "      \n",
    "    user_idx = userID-1 # index starts at 0\n",
    "    \n",
    "    # Get and sort the user's ratings\n",
    "    sorted_user_ratings = rating_matrix.iloc[user_idx].sort_values(ascending=False)\n",
    "    #sorted_user_ratings\n",
    "    sorted_user_predictions = preds_df.iloc[user_idx].sort_values(ascending=False)\n",
    "    #sorted_user_predictions\n",
    "\n",
    "    temp = pd.concat([sorted_user_ratings, sorted_user_predictions], axis=1)\n",
    "    temp.index.name = 'Recommended Items'\n",
    "    temp.columns = ['user_ratings', 'user_predictions']\n",
    "    \n",
    "    temp = temp.loc[temp.user_ratings == 0]   \n",
    "    temp = temp.sort_values('user_predictions', ascending=False)\n",
    "    print('\\nBelow are the recommended items for user(user_id = {}):\\n'.format(userID))\n",
    "    print(temp.head(num_recommendations))\n"
   ]
  },
  {
   "cell_type": "code",
   "execution_count": 59,
   "metadata": {},
   "outputs": [
    {
     "name": "stdout",
     "output_type": "stream",
     "text": "\nBelow are the recommended items for user(user_id = 12):\n\n                   user_ratings  user_predictions\nRecommended Items                                \nB0088CJT4U                  0.0          1.639356\nB000N99BBC                  0.0          1.328095\nB00829TIEK                  0.0          1.269074\nB008DWCRQW                  0.0          1.145459\nB004CLYEDC                  0.0          1.125218\n"
    }
   ],
   "source": [
    "#Enter 'userID' and 'num_recommendations' for the user #\n",
    "userID = 12\n",
    "num_recommendations = 5\n",
    "recommend_items(userID, rating_matrix, preds_df, num_recommendations)"
   ]
  },
  {
   "cell_type": "markdown",
   "execution_count": null,
   "metadata": {},
   "outputs": [],
   "source": []
  },
  {
   "cell_type": "markdown",
   "execution_count": null,
   "metadata": {},
   "outputs": [],
   "source": [
    "<h3>Evaluate both the models. ( Once the model is trained on\n",
    "the training data, it can be used to compute the error\n",
    "(RMSE) on predictions made on the test data.) - (7.5 Marks)</h3>"
   ]
  },
  {
   "cell_type": "code",
   "execution_count": 125,
   "metadata": {},
   "outputs": [
    {
     "data": {
      "text/html": "<div>\n<style scoped>\n    .dataframe tbody tr th:only-of-type {\n        vertical-align: middle;\n    }\n\n    .dataframe tbody tr th {\n        vertical-align: top;\n    }\n\n    .dataframe thead th {\n        text-align: right;\n    }\n</style>\n<table border=\"1\" class=\"dataframe\">\n  <thead>\n    <tr style=\"text-align: right;\">\n      <th>productId</th>\n      <th>0594451647</th>\n      <th>0594481813</th>\n      <th>0970407998</th>\n      <th>0972683275</th>\n      <th>1400501466</th>\n      <th>1400501520</th>\n      <th>1400501776</th>\n      <th>1400532620</th>\n      <th>1400532655</th>\n      <th>140053271X</th>\n      <th>...</th>\n      <th>B00L5YZCCG</th>\n      <th>B00L8I6SFY</th>\n      <th>B00L8QCVL6</th>\n      <th>B00LA6T0LS</th>\n      <th>B00LBZ1Z7K</th>\n      <th>B00LED02VY</th>\n      <th>B00LGN7Y3G</th>\n      <th>B00LGQ6HL8</th>\n      <th>B00LI4ZZO8</th>\n      <th>B00LKG1MC8</th>\n    </tr>\n    <tr>\n      <th>userId</th>\n      <th></th>\n      <th></th>\n      <th></th>\n      <th></th>\n      <th></th>\n      <th></th>\n      <th></th>\n      <th></th>\n      <th></th>\n      <th></th>\n      <th></th>\n      <th></th>\n      <th></th>\n      <th></th>\n      <th></th>\n      <th></th>\n      <th></th>\n      <th></th>\n      <th></th>\n      <th></th>\n      <th></th>\n    </tr>\n  </thead>\n  <tbody>\n    <tr>\n      <th>A100UD67AHFODS</th>\n      <td>0.0</td>\n      <td>0.0</td>\n      <td>0.0</td>\n      <td>0.0</td>\n      <td>0.0</td>\n      <td>0.0</td>\n      <td>0.0</td>\n      <td>0.0</td>\n      <td>0.0</td>\n      <td>0.0</td>\n      <td>...</td>\n      <td>0.0</td>\n      <td>0.0</td>\n      <td>0.0</td>\n      <td>0.0</td>\n      <td>0.0</td>\n      <td>0.0</td>\n      <td>0.0</td>\n      <td>0.0</td>\n      <td>0.0</td>\n      <td>0.0</td>\n    </tr>\n    <tr>\n      <th>A100WO06OQR8BQ</th>\n      <td>0.0</td>\n      <td>0.0</td>\n      <td>0.0</td>\n      <td>0.0</td>\n      <td>0.0</td>\n      <td>0.0</td>\n      <td>0.0</td>\n      <td>0.0</td>\n      <td>0.0</td>\n      <td>0.0</td>\n      <td>...</td>\n      <td>0.0</td>\n      <td>0.0</td>\n      <td>0.0</td>\n      <td>0.0</td>\n      <td>0.0</td>\n      <td>0.0</td>\n      <td>0.0</td>\n      <td>0.0</td>\n      <td>0.0</td>\n      <td>0.0</td>\n    </tr>\n    <tr>\n      <th>A105S56ODHGJEK</th>\n      <td>0.0</td>\n      <td>0.0</td>\n      <td>0.0</td>\n      <td>0.0</td>\n      <td>0.0</td>\n      <td>0.0</td>\n      <td>0.0</td>\n      <td>0.0</td>\n      <td>0.0</td>\n      <td>0.0</td>\n      <td>...</td>\n      <td>0.0</td>\n      <td>0.0</td>\n      <td>0.0</td>\n      <td>0.0</td>\n      <td>0.0</td>\n      <td>0.0</td>\n      <td>0.0</td>\n      <td>0.0</td>\n      <td>0.0</td>\n      <td>0.0</td>\n    </tr>\n    <tr>\n      <th>A105TOJ6LTVMBG</th>\n      <td>0.0</td>\n      <td>0.0</td>\n      <td>0.0</td>\n      <td>0.0</td>\n      <td>0.0</td>\n      <td>0.0</td>\n      <td>0.0</td>\n      <td>0.0</td>\n      <td>0.0</td>\n      <td>0.0</td>\n      <td>...</td>\n      <td>0.0</td>\n      <td>0.0</td>\n      <td>0.0</td>\n      <td>0.0</td>\n      <td>0.0</td>\n      <td>0.0</td>\n      <td>0.0</td>\n      <td>0.0</td>\n      <td>0.0</td>\n      <td>0.0</td>\n    </tr>\n    <tr>\n      <th>A10AFVU66A79Y1</th>\n      <td>0.0</td>\n      <td>0.0</td>\n      <td>0.0</td>\n      <td>0.0</td>\n      <td>0.0</td>\n      <td>0.0</td>\n      <td>0.0</td>\n      <td>0.0</td>\n      <td>0.0</td>\n      <td>0.0</td>\n      <td>...</td>\n      <td>0.0</td>\n      <td>0.0</td>\n      <td>0.0</td>\n      <td>0.0</td>\n      <td>0.0</td>\n      <td>0.0</td>\n      <td>0.0</td>\n      <td>0.0</td>\n      <td>0.0</td>\n      <td>0.0</td>\n    </tr>\n  </tbody>\n</table>\n<p>5 rows × 48190 columns</p>\n</div>",
      "text/plain": "productId       0594451647  0594481813  0970407998  0972683275  1400501466  \\\nuserId                                                                       \nA100UD67AHFODS         0.0         0.0         0.0         0.0         0.0   \nA100WO06OQR8BQ         0.0         0.0         0.0         0.0         0.0   \nA105S56ODHGJEK         0.0         0.0         0.0         0.0         0.0   \nA105TOJ6LTVMBG         0.0         0.0         0.0         0.0         0.0   \nA10AFVU66A79Y1         0.0         0.0         0.0         0.0         0.0   \n\nproductId       1400501520  1400501776  1400532620  1400532655  140053271X  \\\nuserId                                                                       \nA100UD67AHFODS         0.0         0.0         0.0         0.0         0.0   \nA100WO06OQR8BQ         0.0         0.0         0.0         0.0         0.0   \nA105S56ODHGJEK         0.0         0.0         0.0         0.0         0.0   \nA105TOJ6LTVMBG         0.0         0.0         0.0         0.0         0.0   \nA10AFVU66A79Y1         0.0         0.0         0.0         0.0         0.0   \n\nproductId       ...  B00L5YZCCG  B00L8I6SFY  B00L8QCVL6  B00LA6T0LS  \\\nuserId          ...                                                   \nA100UD67AHFODS  ...         0.0         0.0         0.0         0.0   \nA100WO06OQR8BQ  ...         0.0         0.0         0.0         0.0   \nA105S56ODHGJEK  ...         0.0         0.0         0.0         0.0   \nA105TOJ6LTVMBG  ...         0.0         0.0         0.0         0.0   \nA10AFVU66A79Y1  ...         0.0         0.0         0.0         0.0   \n\nproductId       B00LBZ1Z7K  B00LED02VY  B00LGN7Y3G  B00LGQ6HL8  B00LI4ZZO8  \\\nuserId                                                                       \nA100UD67AHFODS         0.0         0.0         0.0         0.0         0.0   \nA100WO06OQR8BQ         0.0         0.0         0.0         0.0         0.0   \nA105S56ODHGJEK         0.0         0.0         0.0         0.0         0.0   \nA105TOJ6LTVMBG         0.0         0.0         0.0         0.0         0.0   \nA10AFVU66A79Y1         0.0         0.0         0.0         0.0         0.0   \n\nproductId       B00LKG1MC8  \nuserId                      \nA100UD67AHFODS         0.0  \nA100WO06OQR8BQ         0.0  \nA105S56ODHGJEK         0.0  \nA105TOJ6LTVMBG         0.0  \nA10AFVU66A79Y1         0.0  \n\n[5 rows x 48190 columns]"
     },
     "execution_count": 125,
     "metadata": {},
     "output_type": "execute_result"
    }
   ],
   "source": [
    "# Evaluation of Model-based Collaborative Filtering (SVD)\n",
    "results=pd.DataFrame(index=['RMSE'])\n",
    "# Actual ratings given by the users\n",
    "rating_matrix.head()"
   ]
  },
  {
   "cell_type": "code",
   "execution_count": 62,
   "metadata": {},
   "outputs": [
    {
     "data": {
      "text/plain": "productId\n0594451647    0.003247\n0594481813    0.001948\n0970407998    0.003247\n0972683275    0.012338\n1400501466    0.012987\ndtype: float64"
     },
     "execution_count": 62,
     "metadata": {},
     "output_type": "execute_result"
    }
   ],
   "source": [
    "rating_matrix.mean().head()"
   ]
  },
  {
   "cell_type": "code",
   "execution_count": 63,
   "metadata": {},
   "outputs": [
    {
     "data": {
      "text/plain": "productId\n0594451647    0.001542\n0594481813    0.002341\n0970407998    0.002597\n0972683275    0.011807\n1400501466    0.004848\ndtype: float64"
     },
     "execution_count": 63,
     "metadata": {},
     "output_type": "execute_result"
    }
   ],
   "source": [
    "preds_df.mean().head()"
   ]
  },
  {
   "cell_type": "code",
   "execution_count": 65,
   "metadata": {},
   "outputs": [
    {
     "name": "stdout",
     "output_type": "stream",
     "text": "(48190, 2)\n"
    },
    {
     "data": {
      "text/html": "<div>\n<style scoped>\n    .dataframe tbody tr th:only-of-type {\n        vertical-align: middle;\n    }\n\n    .dataframe tbody tr th {\n        vertical-align: top;\n    }\n\n    .dataframe thead th {\n        text-align: right;\n    }\n</style>\n<table border=\"1\" class=\"dataframe\">\n  <thead>\n    <tr style=\"text-align: right;\">\n      <th></th>\n      <th>Avg_actual_ratings</th>\n      <th>Avg_predicted_ratings</th>\n      <th>item_index</th>\n    </tr>\n    <tr>\n      <th>productId</th>\n      <th></th>\n      <th></th>\n      <th></th>\n    </tr>\n  </thead>\n  <tbody>\n    <tr>\n      <th>0594451647</th>\n      <td>0.003247</td>\n      <td>0.001542</td>\n      <td>0</td>\n    </tr>\n    <tr>\n      <th>0594481813</th>\n      <td>0.001948</td>\n      <td>0.002341</td>\n      <td>1</td>\n    </tr>\n    <tr>\n      <th>0970407998</th>\n      <td>0.003247</td>\n      <td>0.002597</td>\n      <td>2</td>\n    </tr>\n    <tr>\n      <th>0972683275</th>\n      <td>0.012338</td>\n      <td>0.011807</td>\n      <td>3</td>\n    </tr>\n    <tr>\n      <th>1400501466</th>\n      <td>0.012987</td>\n      <td>0.004848</td>\n      <td>4</td>\n    </tr>\n  </tbody>\n</table>\n</div>",
      "text/plain": "            Avg_actual_ratings  Avg_predicted_ratings  item_index\nproductId                                                        \n0594451647            0.003247               0.001542           0\n0594481813            0.001948               0.002341           1\n0970407998            0.003247               0.002597           2\n0972683275            0.012338               0.011807           3\n1400501466            0.012987               0.004848           4"
     },
     "execution_count": 65,
     "metadata": {},
     "output_type": "execute_result"
    }
   ],
   "source": [
    "# Prepare a DataFrame for Avg of Actual and Avg of Predicted rating\n",
    "rmse_df = pd.concat([rating_matrix.mean(), preds_df.mean()], axis=1)\n",
    "rmse_df.columns = ['Avg_actual_ratings', 'Avg_predicted_ratings']\n",
    "print(rmse_df.shape)\n",
    "rmse_df['item_index'] = np.arange(0, rmse_df.shape[0], 1)\n",
    "rmse_df.head()"
   ]
  },
  {
   "cell_type": "code",
   "execution_count": 121,
   "metadata": {},
   "outputs": [
    {
     "name": "stdout",
     "output_type": "stream",
     "text": "\nRMSE SVD Model = 0.0033 \n\n"
    }
   ],
   "source": [
    "# Calculate the RMSE for the SVD model\n",
    "RMSE = round((((rmse_df.Avg_actual_ratings - rmse_df.Avg_predicted_ratings) ** 2).mean() ** 0.5), 5)\n",
    "print('\\nRMSE SVD Model = {} \\n'.format(RMSE))\n"
   ]
  },
  {
   "cell_type": "code",
   "execution_count": 127,
   "metadata": {},
   "outputs": [
    {
     "data": {
      "text/html": "<div>\n<style scoped>\n    .dataframe tbody tr th:only-of-type {\n        vertical-align: middle;\n    }\n\n    .dataframe tbody tr th {\n        vertical-align: top;\n    }\n\n    .dataframe thead th {\n        text-align: right;\n    }\n</style>\n<table border=\"1\" class=\"dataframe\">\n  <thead>\n    <tr style=\"text-align: right;\">\n      <th></th>\n      <th>SVD</th>\n    </tr>\n  </thead>\n  <tbody>\n    <tr>\n      <th>RMSE</th>\n      <td>0.0033</td>\n    </tr>\n  </tbody>\n</table>\n</div>",
      "text/plain": "         SVD\nRMSE  0.0033"
     },
     "execution_count": 127,
     "metadata": {},
     "output_type": "execute_result"
    }
   ],
   "source": [
    "results['SVD'] = RMSE\n"
   ]
  },
  {
   "cell_type": "code",
   "execution_count": 102,
   "metadata": {},
   "outputs": [],
   "source": [
    "#converting the dataframe to format supported by surprise package\n",
    "from surprise.model_selection import train_test_split\n",
    "from surprise import Reader, Dataset\n",
    "from surprise import SVD, accuracy\n",
    "reader = Reader()\n",
    "data = Dataset.load_from_df(df_ready[['userId', 'productId', 'Rating']], reader)\n"
   ]
  },
  {
   "cell_type": "code",
   "execution_count": 99,
   "metadata": {},
   "outputs": [],
   "source": [
    "trainset, testset = train_test_split(data, test_size=0.30)"
   ]
  },
  {
   "cell_type": "code",
   "execution_count": 100,
   "metadata": {},
   "outputs": [
    {
     "name": "stdout",
     "output_type": "stream",
     "text": "Computing the cosine similarity matrix...\nDone computing similarity matrix.\n"
    }
   ],
   "source": [
    "# Collabrative Filtering using KNN user based\n",
    "from surprise import KNNWithMeans\n",
    "algo = KNNWithMeans(k=25, sim_options={'name': 'cosine', 'user_based': True})\n",
    "algo.fit(trainset)\n",
    "test_pred = algo.test(testset)"
   ]
  },
  {
   "cell_type": "code",
   "execution_count": 110,
   "metadata": {},
   "outputs": [
    {
     "name": "stdout",
     "output_type": "stream",
     "text": "User-based Model : Test Set\nRMSE: 1.0619\nUser-based Model : Test Set\nRMSE: 1.0619\n"
    },
    {
     "data": {
      "text/plain": "1.0619479370672467"
     },
     "execution_count": 110,
     "metadata": {},
     "output_type": "execute_result"
    }
   ],
   "source": [
    "# get RMSE\n",
    "print(\"User-based Model : Test Set\")\n",
    "accuracy.rmse(test_pred, verbose=True)# get RMSE\n",
    "print(\"User-based Model : Test Set\")\n",
    "accuracy.rmse(test_pred, verbose=True)"
   ]
  },
  {
   "cell_type": "code",
   "execution_count": 131,
   "metadata": {},
   "outputs": [
    {
     "name": "stdout",
     "output_type": "stream",
     "text": "RMSE: 1.0619\n"
    }
   ],
   "source": [
    "results['KNN User-User - CF'] = accuracy.rmse(test_pred, verbose=True)"
   ]
  },
  {
   "cell_type": "code",
   "execution_count": 132,
   "metadata": {},
   "outputs": [
    {
     "name": "stdout",
     "output_type": "stream",
     "text": "Results of the both the models: \n          SVD  KNN User-User - CF\nRMSE  0.0033            1.061948\n"
    }
   ],
   "source": [
    "print(\"Results of the both the models: \\n\",results)"
   ]
  },
  {
   "cell_type": "markdown",
   "execution_count": 81,
   "metadata": {},
   "outputs": [
    {
     "ename": "SyntaxError",
     "evalue": "invalid syntax (<ipython-input-81-5574c6b94804>, line 1)",
     "output_type": "error",
     "traceback": [
      "\u001b[0;36m  File \u001b[0;32m\"<ipython-input-81-5574c6b94804>\"\u001b[0;36m, line \u001b[0;32m1\u001b[0m\n\u001b[0;31m    <h3>Get top - K ( K = 5) recommendations. Since our goal is to\u001b[0m\n\u001b[0m    ^\u001b[0m\n\u001b[0;31mSyntaxError\u001b[0m\u001b[0;31m:\u001b[0m invalid syntax\n"
     ]
    }
   ],
   "source": [
    "<h3>Get top - K ( K = 5) recommendations. Since our goal is to\n",
    "recommend new products for each user based on his/her\n",
    "habits, we will recommend 5 new products. - (7.5 Marks)</h3>"
   ]
  },
  {
   "cell_type": "code",
   "execution_count": 135,
   "metadata": {},
   "outputs": [
    {
     "name": "stdout",
     "output_type": "stream",
     "text": "\nBelow are the recommended items for user(user_id = 1):\n\n                   user_ratings  user_predictions\nRecommended Items                                \nB003ES5ZUU                  0.0          1.087660\nB007WTAJTO                  0.0          0.880925\nB007OY5V68                  0.0          0.663511\nB00G4UQ6U8                  0.0          0.634777\nB002V88HFE                  0.0          0.574183\n\nBelow are the recommended items for user(user_id = 10):\n\n                   user_ratings  user_predictions\nRecommended Items                                \nB007WTAJTO                  0.0          1.594319\nB003ES5ZUU                  0.0          1.333773\nB001TH7GUU                  0.0          0.878497\nB000QUUFRW                  0.0          0.722314\nB002WE6D44                  0.0          0.718801\n\nBelow are the recommended items for user(user_id = 150):\n\n                   user_ratings  user_predictions\nRecommended Items                                \nB002WE6D44                  0.0          2.461731\nB000QUUFRW                  0.0          2.385166\nB001TH7GUU                  0.0          2.351295\nB001E1Y5O6                  0.0          1.892304\nB005FYNSPK                  0.0          1.831742\n"
    }
   ],
   "source": [
    "# Enter 'userID' and 'num_recommendations' for the user #\n",
    "userID = [1,15,159]\n",
    "num_recommendations = 5\n",
    "recommend_items(userID[0], rating_matrix, preds_df, num_recommendations)\n",
    "recommend_items(userID[1], rating_matrix, preds_df, num_recommendations)\n",
    "recommend_items(userID[2], rating_matrix, preds_df, num_recommendations)"
   ]
  },
  {
   "cell_type": "markdown",
   "execution_count": 74,
   "metadata": {},
   "outputs": [
    {
     "ename": "SyntaxError",
     "evalue": "invalid syntax (<ipython-input-74-3c4bdf32b477>, line 1)",
     "output_type": "error",
     "traceback": [
      "\u001b[0;36m  File \u001b[0;32m\"<ipython-input-74-3c4bdf32b477>\"\u001b[0;36m, line \u001b[0;32m1\u001b[0m\n\u001b[0;31m    Summarise the insights.\u001b[0m\n\u001b[0m                ^\u001b[0m\n\u001b[0;31mSyntaxError\u001b[0m\u001b[0;31m:\u001b[0m invalid syntax\n"
     ]
    }
   ],
   "source": [
    "<h3>8.Summarise the insights.</h3>\n",
    "\n",
    "Model-based Collaborative Filtering is a personalised recommender system, the recommendations are based on the past behavior of the user and it is not dependent on any additional information.\n",
    "\n",
    "The Popularity-based recommender system is non-personalised and the recommendations are based on frequecy counts, which may be not suitable to the user.You can see the differance above for the user id 1 ,15 & 159, The Popularity based model has recommended the same set of 5 products to both but Collaborative Filtering based model has recommended entire different list based on the user past purchase history"
   ]
  },
  {
   "cell_type": "code",
   "execution_count": null,
   "metadata": {},
   "outputs": [],
   "source": []
  }
 ]
}